{
 "cells": [
  {
   "cell_type": "code",
   "execution_count": 1,
   "metadata": {
    "collapsed": true
   },
   "outputs": [],
   "source": [
    "import os\n",
    "import pandas as pd"
   ]
  },
  {
   "cell_type": "code",
   "execution_count": 2,
   "metadata": {
    "collapsed": true
   },
   "outputs": [],
   "source": [
    "data_path = 'data'\n",
    "\n",
    "# these files had been generated using BigQuery\n",
    "cited_paper = pd.read_csv(os.path.join(data_path, 'citation_counts.000000000000.csv.gz'))\n",
    "cited_paper.merge(pd.read_csv(os.path.join(data_path, 'citation_counts.000000000001.csv.gz')))\n",
    "cited_paper.merge(pd.read_csv(os.path.join(data_path, 'citation_counts.000000000002.csv.gz')))\n",
    "cited_papers = cited_paper.sort_values(\n",
    "    'cited_cited_count', axis= 0, ascending=True, inplace=False, kind='quicksort', na_position='last'\n",
    ")"
   ]
  },
  {
   "cell_type": "code",
   "execution_count": 3,
   "metadata": {
    "scrolled": true
   },
   "outputs": [
    {
     "data": {
      "text/html": [
       "<div>\n",
       "<style scoped>\n",
       "    .dataframe tbody tr th:only-of-type {\n",
       "        vertical-align: middle;\n",
       "    }\n",
       "\n",
       "    .dataframe tbody tr th {\n",
       "        vertical-align: top;\n",
       "    }\n",
       "\n",
       "    .dataframe thead th {\n",
       "        text-align: right;\n",
       "    }\n",
       "</style>\n",
       "<table border=\"1\" class=\"dataframe\">\n",
       "  <thead>\n",
       "    <tr style=\"text-align: right;\">\n",
       "      <th></th>\n",
       "      <th>doi</th>\n",
       "      <th>cited_cited_count</th>\n",
       "      <th>citing_citing_count</th>\n",
       "    </tr>\n",
       "  </thead>\n",
       "  <tbody>\n",
       "    <tr>\n",
       "      <th>10417543</th>\n",
       "      <td>10.1007/978-94-007-7019-5_2</td>\n",
       "      <td>1</td>\n",
       "      <td>NaN</td>\n",
       "    </tr>\n",
       "    <tr>\n",
       "      <th>2347276</th>\n",
       "      <td>10.1016/j.bushor.2015.06.002</td>\n",
       "      <td>1</td>\n",
       "      <td>NaN</td>\n",
       "    </tr>\n",
       "    <tr>\n",
       "      <th>6104328</th>\n",
       "      <td>10.4095/126606</td>\n",
       "      <td>1</td>\n",
       "      <td>NaN</td>\n",
       "    </tr>\n",
       "    <tr>\n",
       "      <th>6104324</th>\n",
       "      <td>10.1149/1.2427762</td>\n",
       "      <td>1</td>\n",
       "      <td>NaN</td>\n",
       "    </tr>\n",
       "    <tr>\n",
       "      <th>6104323</th>\n",
       "      <td>10.1109/SSCI.2015.16</td>\n",
       "      <td>1</td>\n",
       "      <td>NaN</td>\n",
       "    </tr>\n",
       "  </tbody>\n",
       "</table>\n",
       "</div>"
      ],
      "text/plain": [
       "                                   doi  cited_cited_count  citing_citing_count\n",
       "10417543   10.1007/978-94-007-7019-5_2                  1                  NaN\n",
       "2347276   10.1016/j.bushor.2015.06.002                  1                  NaN\n",
       "6104328                 10.4095/126606                  1                  NaN\n",
       "6104324              10.1149/1.2427762                  1                  NaN\n",
       "6104323           10.1109/SSCI.2015.16                  1                  NaN"
      ]
     },
     "execution_count": 3,
     "metadata": {},
     "output_type": "execute_result"
    }
   ],
   "source": [
    "cited_papers.head()"
   ]
  },
  {
   "cell_type": "code",
   "execution_count": 4,
   "metadata": {},
   "outputs": [
    {
     "name": "stdout",
     "output_type": "stream",
     "text": [
      "within citation count range 1000, 1100, found 30 manuscripts (max 30), written to data/DOI_cited_1000.tsv\n",
      "within citation count range 2000, 2300, found 30 manuscripts (max 30), written to data/DOI_cited_2000.tsv\n",
      "within citation count range 3000, 3500, found 30 manuscripts (max 30), written to data/DOI_cited_3000.tsv\n",
      "within citation count range 4000, 5000, found 18 manuscripts (max 30), written to data/DOI_cited_4000.tsv\n",
      "within citation count range 7000, 8000, found 6 manuscripts (max 30), written to data/DOI_cited_7000.tsv\n",
      "within citation count range 9000, None, found 9 manuscripts (max 30), written to data/DOI_cited_9000.tsv\n"
     ]
    }
   ],
   "source": [
    "citation_count_bounds = [\n",
    "    (1000, 1100),\n",
    "    (2000, 2300),\n",
    "    (3000, 3500),\n",
    "    (4000, 5000),\n",
    "    (7000, 8000),\n",
    "    (9000, None)\n",
    "]\n",
    "\n",
    "for lower_citation_count, upper_citation_count in citation_count_bounds:\n",
    "    mask = (cited_paper['cited_cited_count'] > lower_citation_count)\n",
    "    if upper_citation_count:\n",
    "        mask &= (cited_paper['cited_cited_count'] <= upper_citation_count)\n",
    "    cited_x_times = cited_paper[mask]['doi'].head(30)\n",
    "    out_csv = os.path.join(data_path, 'DOI_cited_%d.tsv' % lower_citation_count)\n",
    "    cited_x_times.to_csv(out_csv, index=False, header=True, sep='\\t', encoding='utf-8')\n",
    "    print(\n",
    "        'within citation count range %s, %s, found %d manuscripts (max 30), written to %s' %\n",
    "        (lower_citation_count, upper_citation_count, len(cited_x_times), out_csv)\n",
    "    )"
   ]
  },
  {
   "cell_type": "markdown",
   "metadata": {},
   "source": [
    "###  Check files"
   ]
  },
  {
   "cell_type": "code",
   "execution_count": 5,
   "metadata": {},
   "outputs": [
    {
     "data": {
      "text/html": [
       "<div>\n",
       "<style scoped>\n",
       "    .dataframe tbody tr th:only-of-type {\n",
       "        vertical-align: middle;\n",
       "    }\n",
       "\n",
       "    .dataframe tbody tr th {\n",
       "        vertical-align: top;\n",
       "    }\n",
       "\n",
       "    .dataframe thead th {\n",
       "        text-align: right;\n",
       "    }\n",
       "</style>\n",
       "<table border=\"1\" class=\"dataframe\">\n",
       "  <thead>\n",
       "    <tr style=\"text-align: right;\">\n",
       "      <th></th>\n",
       "      <th>doi</th>\n",
       "    </tr>\n",
       "  </thead>\n",
       "  <tbody>\n",
       "    <tr>\n",
       "      <th>0</th>\n",
       "      <td>10.1126/science.1235122</td>\n",
       "    </tr>\n",
       "    <tr>\n",
       "      <th>1</th>\n",
       "      <td>10.7326/0003-4819-121-12-199412150-00009</td>\n",
       "    </tr>\n",
       "    <tr>\n",
       "      <th>2</th>\n",
       "      <td>10.1111/j.1538-7836.2006.01753.x</td>\n",
       "    </tr>\n",
       "    <tr>\n",
       "      <th>3</th>\n",
       "      <td>10.1056/NEJMoa021641</td>\n",
       "    </tr>\n",
       "    <tr>\n",
       "      <th>4</th>\n",
       "      <td>10.1007/978-3-642-69746-3_2</td>\n",
       "    </tr>\n",
       "  </tbody>\n",
       "</table>\n",
       "</div>"
      ],
      "text/plain": [
       "                                        doi\n",
       "0                   10.1126/science.1235122\n",
       "1  10.7326/0003-4819-121-12-199412150-00009\n",
       "2          10.1111/j.1538-7836.2006.01753.x\n",
       "3                      10.1056/NEJMoa021641\n",
       "4               10.1007/978-3-642-69746-3_2"
      ]
     },
     "execution_count": 5,
     "metadata": {},
     "output_type": "execute_result"
    }
   ],
   "source": [
    "file_csv = os.path.join(data_path, 'DOI_cited_1000.tsv')\n",
    "df1000 = pd.read_csv(file_csv, sep='\\t', encoding='utf-8')\n",
    "df1000.head()"
   ]
  }
 ],
 "metadata": {
  "kernelspec": {
   "display_name": "Python 3",
   "language": "python",
   "name": "python3"
  },
  "language_info": {
   "codemirror_mode": {
    "name": "ipython",
    "version": 3
   },
   "file_extension": ".py",
   "mimetype": "text/x-python",
   "name": "python",
   "nbconvert_exporter": "python",
   "pygments_lexer": "ipython3",
   "version": "3.5.2"
  }
 },
 "nbformat": 4,
 "nbformat_minor": 2
}
