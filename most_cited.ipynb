{
 "cells": [
  {
   "cell_type": "code",
   "execution_count": null,
   "metadata": {
    "collapsed": true
   },
   "outputs": [],
   "source": [
    "import os\n",
    "import pandas as pd"
   ]
  },
  {
   "cell_type": "code",
   "execution_count": null,
   "metadata": {
    "collapsed": true
   },
   "outputs": [],
   "source": [
    "data_path = 'data'\n",
    "\n",
    "# these files had been generated using BigQuery\n",
    "cited_paper = pd.read_csv(os.path.join(data_path, 'citation_counts.000000000000.csv.gz'))\n",
    "cited_paper.merge(pd.read_csv(os.path.join(data_path, 'citation_counts.000000000001.csv.gz')))\n",
    "cited_paper.merge(pd.read_csv(os.path.join(data_path, 'citation_counts.000000000002.csv.gz')))\n",
    "cited_papers = cited_paper.sort_values(\n",
    "    'cited_cited_count', axis= 0, ascending=True, inplace=False, kind='quicksort', na_position='last'\n",
    ")"
   ]
  },
  {
   "cell_type": "code",
   "execution_count": null,
   "metadata": {
    "scrolled": true
   },
   "outputs": [],
   "source": [
    "cited_papers.head()"
   ]
  },
  {
   "cell_type": "code",
   "execution_count": null,
   "metadata": {},
   "outputs": [],
   "source": [
    "citation_count_bounds = [\n",
    "    (1000, 1100),\n",
    "    (2000, 2300),\n",
    "    (3000, 3500),\n",
    "    (4000, 5000),\n",
    "    (7000, 8000),\n",
    "    (9000, None)\n",
    "]\n",
    "\n",
    "for lower_citation_count, upper_citation_count in citation_count_bounds:\n",
    "    mask = (cited_paper['cited_cited_count'] > lower_citation_count)\n",
    "    if upper_citation_count:\n",
    "        mask &= (cited_paper['cited_cited_count'] <= upper_citation_count)\n",
    "    cited_x_times = cited_paper[mask]['doi'].head(30)\n",
    "    out_csv = os.path.join(data_path, 'DOI_cited_%d.tsv' % lower_citation_count)\n",
    "    cited_x_times.to_csv(out_csv, index=False, header=True, sep='\\t', encoding='utf-8')\n",
    "    print(\n",
    "        'within citation count range %s, %s, found %d manuscripts (max 30), written to %s' %\n",
    "        (lower_citation_count, upper_citation_count, len(cited_x_times), out_csv)\n",
    "    )"
   ]
  },
  {
   "cell_type": "markdown",
   "metadata": {},
   "source": [
    "###  Check files"
   ]
  },
  {
   "cell_type": "code",
   "execution_count": null,
   "metadata": {},
   "outputs": [],
   "source": [
    "file_csv = os.path.join(data_path, 'DOI_cited_1000.tsv')\n",
    "df1000 = pd.read_csv(file_csv, sep='\\t', encoding='utf-8')\n",
    "df1000.head()"
   ]
  }
 ],
 "metadata": {
  "kernelspec": {
   "display_name": "Python 3",
   "language": "python",
   "name": "python3"
  },
  "language_info": {
   "codemirror_mode": {
    "name": "ipython",
    "version": 3
   },
   "file_extension": ".py",
   "mimetype": "text/x-python",
   "name": "python",
   "nbconvert_exporter": "python",
   "pygments_lexer": "ipython3",
   "version": "3.5.2"
  }
 },
 "nbformat": 4,
 "nbformat_minor": 2
}
