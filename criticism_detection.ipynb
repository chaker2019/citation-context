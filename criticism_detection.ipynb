{
 "cells": [
  {
   "cell_type": "markdown",
   "metadata": {},
   "source": [
    "# criticism_detection.ipynb\n",
    "\n",
    "### 1 ###\n",
    "•\tIt analysis papers citing another one that has been retracted.\n",
    "•\tIt takes papers that triggered the retraction and classify them as highly_critical.\n",
    "•\tPapers published a year before the first highly_critical paper are classified as non_critical.\n",
    "•\tPapers published after the highly_critical papers are classified as critical (they are not used in the analysis later on because they may contain mixed criticism).\n",
    "•\tDate of publication of the papers are taken from the “PMC-ids.csv.gz” file, available through the PMC FTP service:\n",
    "https://www.ncbi.nlm.nih.gov/pmc/pmctopmid/\n",
    "\n",
    "### 2 ###\n",
    "•\tIt takes all the sentences citing a particular DOI in all the papers disregarding its section. \n",
    "•\tIt shows that clustering algorithms such as PCA and TSNE fail if trying to cluster the sentences from non_critical and high_critical papers just using vader lexicon.\n",
    "\n",
    "### 3 ###\n",
    "•\tIt gets all the sentences in the high_critical papers and a similar number of sentences from the non_critical papers. I finds the words and bigrams used in the high_critical set and are not used in the non_critical set.\n"
   ]
  },
  {
   "cell_type": "code",
   "execution_count": 1,
   "metadata": {
    "collapsed": true
   },
   "outputs": [],
   "source": [
    "%matplotlib inline"
   ]
  },
  {
   "cell_type": "code",
   "execution_count": 2,
   "metadata": {
    "collapsed": true
   },
   "outputs": [],
   "source": [
    "import sys\n",
    "import re\n",
    "import os\n",
    "import numpy as np\n",
    "import pandas as pd\n",
    "import nltk\n",
    "from sklearn.decomposition import PCA\n",
    "import seaborn as sns\n",
    "from sklearn.feature_extraction.text import TfidfVectorizer\n",
    "from sklearn.manifold import TSNE\n",
    "import matplotlib.pyplot as plt\n",
    "\n",
    "sys.path.insert(0, \"./modules\")\n",
    "import words_frec_analysis_get_sentence"
   ]
  },
  {
   "cell_type": "markdown",
   "metadata": {},
   "source": [
    "# Configuration"
   ]
  },
  {
   "cell_type": "code",
   "execution_count": 3,
   "metadata": {
    "collapsed": true
   },
   "outputs": [],
   "source": [
    "data_path = 'data'\n",
    "\n",
    "ds_name = 'DOI_cited_science_1179052_retracted'\n",
    "\n",
    "# The paper was retracted based on:\n",
    "DOI_high_critical = [\n",
    "    '10.1186/1742-4690-7-63',\n",
    "    '10.1371/journal.pone.0008519',\n",
    "    '10.1136/bmj.c1018',\n",
    "    '10.1186/1742-4690-7-10',\n",
    "    '10.1371/journal.pone.0008519',\n",
    "    '10.1186/1743-422X-7-224'\n",
    "]\n",
    "\n",
    "analysis_path = os.path.join(data_path, 'analysis')\n",
    "\n",
    "# In\n",
    "citing_sections_tsv = os.path.join(analysis_path, '%s_sections.tsv' % ds_name)\n",
    "pmc_ids_csv = os.path.join(data_path, 'PMC_ids/PMC-ids.csv.gz')"
   ]
  },
  {
   "cell_type": "markdown",
   "metadata": {},
   "source": [
    "# Setup"
   ]
  },
  {
   "cell_type": "code",
   "execution_count": 4,
   "metadata": {},
   "outputs": [
    {
     "name": "stdout",
     "output_type": "stream",
     "text": [
      "[nltk_data] Downloading package vader_lexicon to\n",
      "[nltk_data]     /home/deuser/nltk_data...\n",
      "[nltk_data]   Package vader_lexicon is already up-to-date!\n"
     ]
    },
    {
     "data": {
      "text/plain": [
       "True"
      ]
     },
     "execution_count": 4,
     "metadata": {},
     "output_type": "execute_result"
    }
   ],
   "source": [
    "# Get Vader data for sentiment analysis\n",
    "nltk.download('vader_lexicon') "
   ]
  },
  {
   "cell_type": "markdown",
   "metadata": {},
   "source": [
    "### 1 ###\n",
    "\n",
    "•\tIt analysis papers citing another one that has been retracted.\n",
    "•\tIt takes papers that triggered the retraction and classify them as highly_critical.\n",
    "•\tPapers published a year before the first highly_critical paper are classified as non_critical.\n",
    "•\tPapers published after the highly_critical papers are classified as critical (they are not used in the analysis later on because they may contain mixed criticism).\n",
    "•\tDate of publication of the papers are taken from the “PMC-ids.csv.gz” file, available through the PMC FTP service:\n",
    "https://www.ncbi.nlm.nih.gov/pmc/pmctopmid/"
   ]
  },
  {
   "cell_type": "code",
   "execution_count": 5,
   "metadata": {
    "collapsed": true
   },
   "outputs": [],
   "source": [
    "df = pd.read_csv(\n",
    "    citing_sections_tsv,\n",
    "    sep='\\t',\n",
    "    encoding='utf-8'\n",
    ")\n",
    "\n",
    "#  df['cited_DOI', 'cited_in_conclusions','cited_in_discussion',\n",
    "#    'cited_in_introduction', 'cited_in_maintext', 'citing_DOI',\n",
    "#    'conclusions_found', 'discussion_found', 'introduction_found',\n",
    "#    'maintext_found', 'reference_id', 'sentence_citing_conclusions',\n",
    "#    'sentence_citing_discussion', 'sentence_citing_intro', 'sentence_citing_maintext']\n"
   ]
  },
  {
   "cell_type": "code",
   "execution_count": 6,
   "metadata": {},
   "outputs": [
    {
     "data": {
      "text/html": [
       "<div>\n",
       "<style scoped>\n",
       "    .dataframe tbody tr th:only-of-type {\n",
       "        vertical-align: middle;\n",
       "    }\n",
       "\n",
       "    .dataframe tbody tr th {\n",
       "        vertical-align: top;\n",
       "    }\n",
       "\n",
       "    .dataframe thead th {\n",
       "        text-align: right;\n",
       "    }\n",
       "</style>\n",
       "<table border=\"1\" class=\"dataframe\">\n",
       "  <thead>\n",
       "    <tr style=\"text-align: right;\">\n",
       "      <th></th>\n",
       "      <th>Journal Title</th>\n",
       "      <th>ISSN</th>\n",
       "      <th>eISSN</th>\n",
       "      <th>Year</th>\n",
       "      <th>Volume</th>\n",
       "      <th>Issue</th>\n",
       "      <th>Page</th>\n",
       "      <th>DOI</th>\n",
       "      <th>PMCID</th>\n",
       "      <th>PMID</th>\n",
       "      <th>Manuscript Id</th>\n",
       "      <th>Release Date</th>\n",
       "    </tr>\n",
       "  </thead>\n",
       "  <tbody>\n",
       "    <tr>\n",
       "      <th>1997127</th>\n",
       "      <td>J Transl Med</td>\n",
       "      <td>NaN</td>\n",
       "      <td>1479-5876</td>\n",
       "      <td>2009</td>\n",
       "      <td>7</td>\n",
       "      <td>NaN</td>\n",
       "      <td>96</td>\n",
       "      <td>10.1186/1479-5876-7-96</td>\n",
       "      <td>PMC2779802</td>\n",
       "      <td>19909538.0</td>\n",
       "      <td>NaN</td>\n",
       "      <td>live</td>\n",
       "    </tr>\n",
       "    <tr>\n",
       "      <th>2044695</th>\n",
       "      <td>J Transl Med</td>\n",
       "      <td>NaN</td>\n",
       "      <td>1479-5876</td>\n",
       "      <td>2010</td>\n",
       "      <td>8</td>\n",
       "      <td>NaN</td>\n",
       "      <td>1</td>\n",
       "      <td>10.1186/1479-5876-8-1</td>\n",
       "      <td>PMC2829521</td>\n",
       "      <td>20064266.0</td>\n",
       "      <td>NaN</td>\n",
       "      <td>live</td>\n",
       "    </tr>\n",
       "    <tr>\n",
       "      <th>2054642</th>\n",
       "      <td>Retrovirology</td>\n",
       "      <td>NaN</td>\n",
       "      <td>1742-4690</td>\n",
       "      <td>2010</td>\n",
       "      <td>7</td>\n",
       "      <td>NaN</td>\n",
       "      <td>10</td>\n",
       "      <td>10.1186/1742-4690-7-10</td>\n",
       "      <td>PMC2839973</td>\n",
       "      <td>20156349.0</td>\n",
       "      <td>NaN</td>\n",
       "      <td>live</td>\n",
       "    </tr>\n",
       "    <tr>\n",
       "      <th>2055756</th>\n",
       "      <td>Retrovirology</td>\n",
       "      <td>NaN</td>\n",
       "      <td>1742-4690</td>\n",
       "      <td>2010</td>\n",
       "      <td>7</td>\n",
       "      <td>NaN</td>\n",
       "      <td>16</td>\n",
       "      <td>10.1186/1742-4690-7-16</td>\n",
       "      <td>PMC2841096</td>\n",
       "      <td>20219088.0</td>\n",
       "      <td>NaN</td>\n",
       "      <td>live</td>\n",
       "    </tr>\n",
       "    <tr>\n",
       "      <th>2121671</th>\n",
       "      <td>Retrovirology</td>\n",
       "      <td>NaN</td>\n",
       "      <td>1742-4690</td>\n",
       "      <td>2010</td>\n",
       "      <td>7</td>\n",
       "      <td>NaN</td>\n",
       "      <td>57</td>\n",
       "      <td>10.1186/1742-4690-7-57</td>\n",
       "      <td>PMC2908559</td>\n",
       "      <td>20594299.0</td>\n",
       "      <td>NaN</td>\n",
       "      <td>live</td>\n",
       "    </tr>\n",
       "  </tbody>\n",
       "</table>\n",
       "</div>"
      ],
      "text/plain": [
       "         Journal Title ISSN      eISSN  Year Volume Issue Page  \\\n",
       "1997127   J Transl Med  NaN  1479-5876  2009      7   NaN   96   \n",
       "2044695   J Transl Med  NaN  1479-5876  2010      8   NaN    1   \n",
       "2054642  Retrovirology  NaN  1742-4690  2010      7   NaN   10   \n",
       "2055756  Retrovirology  NaN  1742-4690  2010      7   NaN   16   \n",
       "2121671  Retrovirology  NaN  1742-4690  2010      7   NaN   57   \n",
       "\n",
       "                            DOI       PMCID        PMID Manuscript Id  \\\n",
       "1997127  10.1186/1479-5876-7-96  PMC2779802  19909538.0           NaN   \n",
       "2044695   10.1186/1479-5876-8-1  PMC2829521  20064266.0           NaN   \n",
       "2054642  10.1186/1742-4690-7-10  PMC2839973  20156349.0           NaN   \n",
       "2055756  10.1186/1742-4690-7-16  PMC2841096  20219088.0           NaN   \n",
       "2121671  10.1186/1742-4690-7-57  PMC2908559  20594299.0           NaN   \n",
       "\n",
       "        Release Date  \n",
       "1997127         live  \n",
       "2044695         live  \n",
       "2054642         live  \n",
       "2055756         live  \n",
       "2121671         live  "
      ]
     },
     "execution_count": 6,
     "metadata": {},
     "output_type": "execute_result"
    }
   ],
   "source": [
    "df_ids = pd.read_csv(pmc_ids_csv, sep=',', encoding='utf-8', low_memory=False)\n",
    "\n",
    "\n",
    "df_ids_select = df_ids[df_ids['DOI'].isin(df.citing_DOI)]\n",
    "\"\"\"\n",
    "for element in df.citing_DOI:\n",
    "    df_ids['DOI'].isin(df.citingDOI)\n",
    "    df_ids_selection2.append(df_ids[[df_ids[\"DOI\"] == element]])\n",
    "    #print(element)\n",
    "\"\"\"\n",
    "\n",
    "df_ids_select.head()"
   ]
  },
  {
   "cell_type": "code",
   "execution_count": 7,
   "metadata": {
    "collapsed": true,
    "scrolled": true
   },
   "outputs": [],
   "source": [
    "# The paper was retracted based on:\n",
    "#DOI_high_critical = ['10.1186/1742-4690-7-63', '10.1371/journal.pone.0008519', '10.1136/bmj.c1018', '10.1186/1742-4690-7-10', '10.1371/journal.pone.0008519', '10.1186/1743-422X-7-224']\n",
    "\n",
    "df_ids_select_info_highCritical = df_ids[df_ids[\"DOI\"].isin(DOI_high_critical)]\n",
    "\n",
    "df_ids_select_nonCritical = df_ids[((df_ids[\"Year\"] < 2011)) & (df_ids['DOI'].isin(DOI_high_critical) == False)]\n",
    "\n",
    "df_ids_select_Critical = df_ids[(df_ids[\"Year\"] >= 2011) | (df_ids['DOI'].isin(DOI_high_critical))]\n",
    "\n",
    "\n",
    "df_highCritical =df[df['citing_DOI'].isin(df_ids_select_info_highCritical['DOI'])]\n",
    " \n",
    "df_nonCritical = df[df['citing_DOI'].isin(df_ids_select_nonCritical['DOI'])]\n",
    "df_Critical = df[df['citing_DOI'].isin(df_ids_select_Critical['DOI'])]\n",
    "#df_critical\n",
    "\n",
    "df_highCritical_text_part1 = df_highCritical[['citing_DOI','sentence_citing_conclusions']].rename(columns = {'sentence_citing_conclusions': 'text'})\n",
    "df_highCritical_text_part2 = df_highCritical[['citing_DOI','sentence_citing_discussion']].rename(columns = {'sentence_citing_discussion': 'text'})\n",
    "df_highCritical_text_part3 = df_highCritical[['citing_DOI','sentence_citing_intro']].rename(columns = {'sentence_citing_intro': 'text'})\n",
    "df_full_highCritical = pd.concat([df_highCritical_text_part1, df_highCritical_text_part2, df_highCritical_text_part3]).dropna().reset_index(drop=True)\n",
    "df_full_highCritical['label'] = 'high_critical'\n",
    "\n",
    "df_part1 = df_nonCritical[['citing_DOI','sentence_citing_conclusions']].rename(columns = {'sentence_citing_conclusions': 'text'})\n",
    "df_part2 = df_nonCritical[['citing_DOI','sentence_citing_discussion']].rename(columns = {'sentence_citing_discussion': 'text'})\n",
    "df_part3 = df_nonCritical[['citing_DOI','sentence_citing_intro']].rename(columns = {'sentence_citing_intro': 'text'})\n",
    "df_full_nonCritical = pd.concat([df_part1, df_part2, df_part3]).dropna().reset_index(drop=True)\n",
    "df_full_nonCritical['label'] = 'non_critizising'\n",
    "\n",
    "df_part1 = df_Critical[['citing_DOI','sentence_citing_conclusions']].rename(columns = {'sentence_citing_conclusions': 'text'})\n",
    "df_part2 = df_Critical[['citing_DOI','sentence_citing_discussion']].rename(columns = {'sentence_citing_discussion': 'text'})\n",
    "df_part3 = df_Critical[['citing_DOI','sentence_citing_intro']].rename(columns = {'sentence_citing_intro': 'text'})\n",
    "df_full_Critical = pd.concat([df_part1, df_part2, df_part3]).dropna().reset_index(drop=True)\n",
    "df_full_Critical['label'] = 'critizising'\n",
    "\n",
    "df_full = pd.concat([df_full_nonCritical, df_full_Critical]).reset_index(drop=True)"
   ]
  },
  {
   "cell_type": "code",
   "execution_count": 8,
   "metadata": {},
   "outputs": [
    {
     "name": "stdout",
     "output_type": "stream",
     "text": [
      "df_highCritical.shape;  (3, 15)\n",
      "df_Critical.shape;  (21, 15)\n",
      "df_nonCritical.shape:  (19, 15)\n",
      "df_full.shape:  (38, 3)\n"
     ]
    }
   ],
   "source": [
    "print(\"df_highCritical.shape; \", df_highCritical.shape)\n",
    "print(\"df_Critical.shape; \", df_Critical.shape)\n",
    "print(\"df_nonCritical.shape: \", df_nonCritical.shape)\n",
    "print(\"df_full.shape: \", df_full.shape)"
   ]
  },
  {
   "cell_type": "code",
   "execution_count": 9,
   "metadata": {},
   "outputs": [
    {
     "data": {
      "text/html": [
       "<div>\n",
       "<style scoped>\n",
       "    .dataframe tbody tr th:only-of-type {\n",
       "        vertical-align: middle;\n",
       "    }\n",
       "\n",
       "    .dataframe tbody tr th {\n",
       "        vertical-align: top;\n",
       "    }\n",
       "\n",
       "    .dataframe thead th {\n",
       "        text-align: right;\n",
       "    }\n",
       "</style>\n",
       "<table border=\"1\" class=\"dataframe\">\n",
       "  <thead>\n",
       "    <tr style=\"text-align: right;\">\n",
       "      <th></th>\n",
       "      <th>cited_DOI</th>\n",
       "      <th>cited_in_conclusions</th>\n",
       "      <th>cited_in_discussion</th>\n",
       "      <th>cited_in_introduction</th>\n",
       "      <th>cited_in_maintext</th>\n",
       "      <th>citing_DOI</th>\n",
       "      <th>conclusions_found</th>\n",
       "      <th>discussion_found</th>\n",
       "      <th>introduction_found</th>\n",
       "      <th>maintext_found</th>\n",
       "      <th>reference_number</th>\n",
       "      <th>sentence_citing_conclusions</th>\n",
       "      <th>sentence_citing_discussion</th>\n",
       "      <th>sentence_citing_intro</th>\n",
       "      <th>sentence_citing_maintext</th>\n",
       "    </tr>\n",
       "  </thead>\n",
       "  <tbody>\n",
       "    <tr>\n",
       "      <th>11</th>\n",
       "      <td>10.1126/science.1179052</td>\n",
       "      <td>False</td>\n",
       "      <td>True</td>\n",
       "      <td>True</td>\n",
       "      <td>True</td>\n",
       "      <td>10.1186/1742-4690-7-10</td>\n",
       "      <td>True</td>\n",
       "      <td>True</td>\n",
       "      <td>True</td>\n",
       "      <td>True</td>\n",
       "      <td>B8</td>\n",
       "      <td>NaN</td>\n",
       "      <td>['[&lt;xref ref-type=\"bibr\" rid=\"B8\"&gt;8&lt;/xref&gt;] co...</td>\n",
       "      <td>['More recently, additional groups of samples ...</td>\n",
       "      <td>['[&lt;xref ref-type=\"bibr\" rid=\"B8\"&gt;8&lt;/xref&gt;] (T...</td>\n",
       "    </tr>\n",
       "    <tr>\n",
       "      <th>12</th>\n",
       "      <td>10.1126/science.1179052</td>\n",
       "      <td>False</td>\n",
       "      <td>False</td>\n",
       "      <td>False</td>\n",
       "      <td>True</td>\n",
       "      <td>10.1186/1742-4690-7-63</td>\n",
       "      <td>False</td>\n",
       "      <td>False</td>\n",
       "      <td>False</td>\n",
       "      <td>True</td>\n",
       "      <td>B15</td>\n",
       "      <td>NaN</td>\n",
       "      <td>NaN</td>\n",
       "      <td>NaN</td>\n",
       "      <td>['More recently, XMRV has also been found, wit...</td>\n",
       "    </tr>\n",
       "    <tr>\n",
       "      <th>31</th>\n",
       "      <td>10.1126/science.1179052</td>\n",
       "      <td>False</td>\n",
       "      <td>True</td>\n",
       "      <td>True</td>\n",
       "      <td>True</td>\n",
       "      <td>10.1186/1743-422X-7-224</td>\n",
       "      <td>True</td>\n",
       "      <td>True</td>\n",
       "      <td>True</td>\n",
       "      <td>True</td>\n",
       "      <td>B3</td>\n",
       "      <td>NaN</td>\n",
       "      <td>['The virus was not detected in any of our stu...</td>\n",
       "      <td>['In a recent US study, Lombardi et al [&lt;xref ...</td>\n",
       "      <td>['This sequence was obtained by overlapping ex...</td>\n",
       "    </tr>\n",
       "  </tbody>\n",
       "</table>\n",
       "</div>"
      ],
      "text/plain": [
       "                  cited_DOI  cited_in_conclusions  cited_in_discussion  \\\n",
       "11  10.1126/science.1179052                 False                 True   \n",
       "12  10.1126/science.1179052                 False                False   \n",
       "31  10.1126/science.1179052                 False                 True   \n",
       "\n",
       "    cited_in_introduction  cited_in_maintext               citing_DOI  \\\n",
       "11                   True               True   10.1186/1742-4690-7-10   \n",
       "12                  False               True   10.1186/1742-4690-7-63   \n",
       "31                   True               True  10.1186/1743-422X-7-224   \n",
       "\n",
       "    conclusions_found  discussion_found  introduction_found  maintext_found  \\\n",
       "11               True              True                True            True   \n",
       "12              False             False               False            True   \n",
       "31               True              True                True            True   \n",
       "\n",
       "   reference_number sentence_citing_conclusions  \\\n",
       "11               B8                         NaN   \n",
       "12              B15                         NaN   \n",
       "31               B3                         NaN   \n",
       "\n",
       "                           sentence_citing_discussion  \\\n",
       "11  ['[<xref ref-type=\"bibr\" rid=\"B8\">8</xref>] co...   \n",
       "12                                                NaN   \n",
       "31  ['The virus was not detected in any of our stu...   \n",
       "\n",
       "                                sentence_citing_intro  \\\n",
       "11  ['More recently, additional groups of samples ...   \n",
       "12                                                NaN   \n",
       "31  ['In a recent US study, Lombardi et al [<xref ...   \n",
       "\n",
       "                             sentence_citing_maintext  \n",
       "11  ['[<xref ref-type=\"bibr\" rid=\"B8\">8</xref>] (T...  \n",
       "12  ['More recently, XMRV has also been found, wit...  \n",
       "31  ['This sequence was obtained by overlapping ex...  "
      ]
     },
     "execution_count": 9,
     "metadata": {},
     "output_type": "execute_result"
    }
   ],
   "source": [
    "df_highCritical"
   ]
  },
  {
   "cell_type": "markdown",
   "metadata": {},
   "source": [
    "### 2 ###\n",
    "\n",
    "•\tIt takes all the sentences citing a particular DOI in all the papers disregarding its section. \n",
    "•\tIt shows that clustering algorithms such as PCA and TSNE fail if trying to cluster the sentences from non_critical and high_critical papers just using vader lexicon."
   ]
  },
  {
   "cell_type": "markdown",
   "metadata": {},
   "source": [
    "Let's try to use vader_lexicon and pca and tsne to cluster papers criticising and not criticising. "
   ]
  },
  {
   "cell_type": "code",
   "execution_count": 10,
   "metadata": {},
   "outputs": [
    {
     "data": {
      "text/plain": [
       "(<matplotlib.figure.Figure at 0x7f5fc9412a90>,\n",
       " <matplotlib.axes._subplots.AxesSubplot at 0x7f5fc3f699b0>)"
      ]
     },
     "execution_count": 10,
     "metadata": {},
     "output_type": "execute_result"
    },
    {
     "data": {
      "image/png": "[encoded data removed]",
      "text/plain": [
       "<matplotlib.figure.Figure at 0x7f5fc9412a90>"
      ]
     },
     "metadata": {},
     "output_type": "display_data"
    }
   ],
   "source": [
    "# dimension reduction algorithms can be pretty slow, so let's work with a sample\n",
    "# try on the whole data set if you want!\n",
    "\n",
    "# list of colours for making nice plots later\n",
    "COLOURS = ['#E91D0E', '#00A6EF']\n",
    "\n",
    "\n",
    "def scatter(x, label, selected_labels, selected_colors):\n",
    "    f = plt.figure(figsize=(8, 8))\n",
    "    ax = plt.subplot(aspect='equal')\n",
    "    for selected_label, selected_color in zip(selected_labels, selected_colors):\n",
    "        x_selected = x[(label == selected_label), :]\n",
    "        ax.scatter(\n",
    "            x_selected[:, 0],\n",
    "            x_selected[:, 1],\n",
    "            c=selected_color,\n",
    "            label=selected_label,\n",
    "            alpha=0.5\n",
    "        )\n",
    "    plt.legend()\n",
    "    \n",
    "    return f, ax\n",
    "\n",
    "tfidf_vectorizer = TfidfVectorizer(stop_words='english', max_features=10000)\n",
    "tfidf_vectors = tfidf_vectorizer.fit_transform(df_full['text'])\n",
    "\n",
    "pca = PCA(n_components=2)\n",
    "pca_comp = pca.fit_transform(tfidf_vectors.toarray())\n",
    "scatter(pca_comp, df_full['label'], ['critizising', 'non_critizising'], COLOURS[:2])"
   ]
  },
  {
   "cell_type": "code",
   "execution_count": 11,
   "metadata": {},
   "outputs": [
    {
     "data": {
      "text/plain": [
       "(<matplotlib.figure.Figure at 0x7f5fc3fbf128>,\n",
       " <matplotlib.axes._subplots.AxesSubplot at 0x7f5f877a6a20>)"
      ]
     },
     "execution_count": 11,
     "metadata": {},
     "output_type": "execute_result"
    },
    {
     "data": {
      "image/png": "[encoded data removed]",
      "text/plain": [
       "<matplotlib.figure.Figure at 0x7f5fc3fbf128>"
      ]
     },
     "metadata": {},
     "output_type": "display_data"
    }
   ],
   "source": [
    "# we have suggested some parameters below, feel free to experiment\n",
    "tsne = TSNE(perplexity = 800, random_state = 42)\n",
    "\n",
    "tsne_comp = tsne.fit_transform(tfidf_vectors.toarray())\n",
    "\n",
    "scatter(tsne_comp, df_full['label'], ['critizising', 'non_critizising'], COLOURS[:2])"
   ]
  },
  {
   "cell_type": "markdown",
   "metadata": {},
   "source": [
    "As expected it fails PCA and TSNE using vader lexicon fails."
   ]
  },
  {
   "cell_type": "markdown",
   "metadata": {},
   "source": [
    "### 3 ###\n",
    "•\tIt gets all the sentences in the high_critical papers and a similar number of sentences from the non_critical papers. I finds the words and bigrams used in the high_critical set and are not used in the non_critical set.\n"
   ]
  },
  {
   "cell_type": "markdown",
   "metadata": {},
   "source": [
    "Let's analyse the sentences where the paper is cited."
   ]
  },
  {
   "cell_type": "code",
   "execution_count": 12,
   "metadata": {},
   "outputs": [
    {
     "name": "stdout",
     "output_type": "stream",
     "text": [
      "['appeared', 'association', 'carried', 'cells', 'chronic', 'concerning', 'fatigue', 'findings', 'found', 'inconsistent', 'isolation', 'levels', 'negative', 'paper', 'patients', 'previous', 'published', 'report', 'reporting', 'syndrome']\n",
      "2,\"['More recently, additional groups of samples from patients with prostate cancer have been examined for the presence of XMRV with both positive [<xref ref-type=\"\"bibr\"\" rid=\"\"B5\"\">5</xref>] and negative [<xref ref-type=\"\"bibr\"\" rid=\"\"B6\"\">6</xref>,<xref ref-type=\"\"bibr\"\" rid=\"\"B7\"\">7</xref>] results.</p><p>Very recently, a paper reporting the PCR detection of XMRV in PBMC from 68/101 patients with chronic fatigue syndrome (CFS) has been published [<xref ref-type=\"\"bibr\"\" rid=\"\"B8\"\">8</xref>].']\"\n",
      "['agreement', 'among', 'antibody', 'cell', 'compared', 'could', 'data', 'failed', 'finding', 'large', 'leukemia', 'murine', 'one', 'patients', 'persons', 'recent', 'reported', 'responses', 'sequences', 'specific', 'studies', 'study', 'testing', 'two', 'using', 'virus']\n",
      "6,\"['Our results contrast with the high rate of XMRV detection reported by Lombardi<italic>et al.</italic>among both CFS patients and controls, but are in agreement with recent data reported in two large studies in the UK and a smaller study in the Netherlands that could not detect XMRV sequences in CFS patients and one UK study that also failed to detect specific XMRV neutralizing antibody responses in CFS [<xref ref-type=\"\"bibr\"\" rid=\"\"B11\"\">11</xref>,<xref ref-type=\"\"bibr\"\" rid=\"\"B16\"\">16</xref>-<xref ref-type=\"\"bibr\"\" rid=\"\"B18\"\">18</xref>].']\"\n",
      "%%%%%%%%%%%%%%%%%%%%%%%%%%%%%%%%%%%%%%%%%%%%%%%%%%%%%%%%%%%%%%%\n",
      "Set of words only found in the highCritical paragraphs\n",
      "{'carried', 'paper', 'negative', 'fatigue', 'syndrome', 'previous', 'concerning', 'association', 'appeared', 'found', 'cells', 'findings', 'inconsistent', 'published', 'reporting', 'report', 'levels', 'chronic', 'isolation'}\n",
      "%%%%%%%%%%%%%%%%%%%%%%%%%%%%%%%%%%%%%%%%%%%%%%%%%%%%%%%%%%%%%%%\n",
      "%%%%%%%%%%%%%%%%%%%%%%%%%%%%%%%%%%%%%%%%%%%%%%%%%%%%%%%%%%%%%%%\n",
      "Set of words only found in the nonCritical paragraphs\n",
      "{'recent', 'data', 'among', 'specific', 'compared', 'testing', 'murine', 'agreement', 'sequences', 'study', 'failed', 'persons', 'cell', 'two', 'antibody', 'finding', 'reported', 'leukemia', 'studies', 'large', 'using', 'could', 'virus', 'responses', 'one'}\n",
      "%%%%%%%%%%%%%%%%%%%%%%%%%%%%%%%%%%%%%%%%%%%%%%%%%%%%%%%%%%%%%%%\n",
      "%%%%%%%%%%%%%%%%%%%%%%%%%%%%%%%%%%%%%%%%%%%%%%%%%%%%%%%%%%%%%%%\n",
      "Set of bi-grams only found in the highCritical paragraphs\n",
      "{(1, 'reporting patients'), (1, 'syndrome published'), (1, 'negative paper'), (1, 'inconsistent previous'), (1, 'report isolation'), (1, 'patients carried'), (1, 'carried levels'), (1, 'isolation patients'), (1, 'concerning association'), (1, 'appeared inconsistent'), (1, 'patients chronic'), (1, 'paper reporting'), (1, 'findings appeared'), (1, 'found patients'), (1, 'fatigue syndrome'), (1, 'chronic fatigue'), (1, 'levels cells'), (1, 'previous report')}\n",
      "%%%%%%%%%%%%%%%%%%%%%%%%%%%%%%%%%%%%%%%%%%%%%%%%%%%%%%%%%%%%%%%\n"
     ]
    }
   ],
   "source": [
    "#print(\"df_highCritical.shape; \", df_highCritical.shape)\n",
    "#print(\"df_Critical.shape; \", df_Critical.shape)\n",
    "#print(\"df_nonCritical.shape: \", df_nonCritical.shape)\n",
    "#print(\"df_full.shape: \", df_full.shape)\n",
    "\n",
    "#file_df = '/project/elife/data/analysis/df_science1179052_retracted.csv'\n",
    "\n",
    "#file_df = '/project/elife/data/analysis/df_1000_1000v2_prep_.csv'\n",
    "#df = pd.read_csv(file_df, sep='\\t', header = None, encoding='utf-8', names = ['cited_DOI','cited_in_conclusions','cited_in_discussion','cited_in_introduction', 'cited_in_maintext', 'citing_DOI','conclusions_found', 'discussion_found', 'introduction_found','maintext_found', 'reference_id', 'sentence_citing_conclusions','sentence_citing_discussion', 'sentence_citing_intro', 'sentence_citing_maintext'])\n",
    "#  df['cited_DOI', 'cited_in_conclusions','cited_in_discussion',\n",
    "#    'cited_in_introduction', 'cited_in_maintext', 'citing_DOI',\n",
    "#    'conclusions_found', 'discussion_found', 'introduction_found',\n",
    "#    'maintext_found', 'reference_id', 'sentence_citing_conclusions',\n",
    "#    'sentence_citing_discussion', 'sentence_citing_intro', 'sentence_citing_maintext']\n",
    "\n",
    "df_full_highCritical_sample = df_full_highCritical # All the papers the retraction is based on\n",
    "#df_full_highCritical_sample = df_full_Critical.sample(4, random_state = 1)\n",
    "\n",
    "sentences_highCritical = df_full_highCritical_sample.text.dropna()\n",
    "frequent_words_highCritical = words_frec_analysis_get_sentence.analysis_nolimit(sentences_highCritical)\n",
    "\n",
    "# I get a similar number of nonCritical text paragraphs:\n",
    "df_full_nonCritical_sample = df_full_nonCritical.sample(2*sentences_highCritical.shape[0], random_state = 10)\n",
    "\n",
    "sentences_nonCritical = df_full_nonCritical_sample.text.dropna()\n",
    "frequent_words_nonCritical = words_frec_analysis_get_sentence.analysis_nolimit(sentences_nonCritical)\n",
    "\n",
    "\n",
    "set_words_nonCritical = set(frequent_words_nonCritical)\n",
    "set_words_highCritical = set(frequent_words_highCritical)\n",
    "\n",
    "words_only_highCritical = set_words_highCritical - set_words_nonCritical\n",
    "\n",
    "print(\"%%%%%%%%%%%%%%%%%%%%%%%%%%%%%%%%%%%%%%%%%%%%%%%%%%%%%%%%%%%%%%%\")\n",
    "print(\"Set of words only found in the highCritical paragraphs\")\n",
    "print(words_only_highCritical)\n",
    "print(\"%%%%%%%%%%%%%%%%%%%%%%%%%%%%%%%%%%%%%%%%%%%%%%%%%%%%%%%%%%%%%%%\")\n",
    "\n",
    "words_only_nonCritical = set_words_nonCritical - set_words_highCritical\n",
    "\n",
    "print(\"%%%%%%%%%%%%%%%%%%%%%%%%%%%%%%%%%%%%%%%%%%%%%%%%%%%%%%%%%%%%%%%\")\n",
    "print(\"Set of words only found in the nonCritical paragraphs\")\n",
    "print(words_only_nonCritical)\n",
    "print(\"%%%%%%%%%%%%%%%%%%%%%%%%%%%%%%%%%%%%%%%%%%%%%%%%%%%%%%%%%%%%%%%\")\n",
    "\n",
    "\n",
    "\n",
    "\n",
    "bigrams_highCritical = words_frec_analysis_get_sentence.analyse_bigrams(sentences_highCritical)\n",
    "bigrams_nonCritical =  words_frec_analysis_get_sentence.analyse_bigrams(sentences_nonCritical)    \n",
    "\n",
    "set_bigrams_highCritical = set(bigrams_highCritical)\n",
    "set_bigrams_nonCritical = set(bigrams_nonCritical)\n",
    "\n",
    "bigrams_only_highCritical = set_bigrams_highCritical-set_bigrams_nonCritical\n",
    "\n",
    "\n",
    "print(\"%%%%%%%%%%%%%%%%%%%%%%%%%%%%%%%%%%%%%%%%%%%%%%%%%%%%%%%%%%%%%%%\")\n",
    "print(\"Set of bi-grams only found in the highCritical paragraphs\")\n",
    "print(bigrams_only_highCritical)\n",
    "print(\"%%%%%%%%%%%%%%%%%%%%%%%%%%%%%%%%%%%%%%%%%%%%%%%%%%%%%%%%%%%%%%%\")\n",
    "\n",
    "\n",
    "### Let's check the frequency of apereance of the words and bigrams highCritical in all the papers###\n",
    "#df_full_Critical['mark'] =\n"
   ]
  },
  {
   "cell_type": "markdown",
   "metadata": {},
   "source": [
    "### SOME CHECKS"
   ]
  },
  {
   "cell_type": "code",
   "execution_count": 13,
   "metadata": {},
   "outputs": [
    {
     "data": {
      "text/plain": [
       "1    ['The virus was not detected in any of our stu...\n",
       "Name: text, dtype: object"
      ]
     },
     "execution_count": 13,
     "metadata": {},
     "output_type": "execute_result"
    }
   ],
   "source": [
    "sentences_highCritical[1:2]"
   ]
  },
  {
   "cell_type": "code",
   "execution_count": 14,
   "metadata": {},
   "outputs": [
    {
     "name": "stdout",
     "output_type": "stream",
     "text": [
      "yes\n"
     ]
    }
   ],
   "source": [
    "with open('./english_words/wordsEn.txt', 'r') as word_file:\n",
    "    english_words = list(word.strip().lower() for word in word_file)\n",
    "#english_words[1000:1005]\n",
    "\n",
    "if 'workload' in english_words:\n",
    "    print(\"yes\")"
   ]
  },
  {
   "cell_type": "code",
   "execution_count": 15,
   "metadata": {},
   "outputs": [
    {
     "name": "stdout",
     "output_type": "stream",
     "text": [
      "0,\"['[<xref ref-type=\"\"bibr\"\" rid=\"\"B8\"\">8</xref>] concerning the association of XMRV with CFS.']\"\n",
      "1,\"['The virus was not detected in any of our study subjects; these results do not support an association between XMRV and CFS in Chinese.</p><p>Our findings appeared to be inconsistent with a previous report of XMRV DNA isolation from PBMCs of CFS patients in the US [<xref ref-type=\"\"bibr\"\" rid=\"\"B3\"\">3</xref>].']\"\n",
      "2,\"['More recently, additional groups of samples from patients with prostate cancer have been examined for the presence of XMRV with both positive [<xref ref-type=\"\"bibr\"\" rid=\"\"B5\"\">5</xref>] and negative [<xref ref-type=\"\"bibr\"\" rid=\"\"B6\"\">6</xref>,<xref ref-type=\"\"bibr\"\" rid=\"\"B7\"\">7</xref>] results.</p><p>Very recently, a paper reporting the PCR detection of XMRV in PBMC from 68/101 patients with chronic fatigue syndrome (CFS) has been published [<xref ref-type=\"\"bibr\"\" rid=\"\"B8\"\">8</xref>].']\"\n",
      "3,\"['In a recent US study, Lombardi et al [<xref ref-type=\"\"bibr\"\" rid=\"\"B3\"\">3</xref>] found that about 67% (68/101) of patients with CFS carried detectable levels of XMRV DNA in their peripheral blood mononuclear cells (PBMCs).']\"\n"
     ]
    }
   ],
   "source": [
    "sentence = sentences_highCritical[0:4]\n",
    "sentence.to_csv(sys.stdout)"
   ]
  },
  {
   "cell_type": "code",
   "execution_count": 16,
   "metadata": {},
   "outputs": [
    {
     "data": {
      "text/plain": [
       "'agreement'"
      ]
     },
     "execution_count": 16,
     "metadata": {},
     "output_type": "execute_result"
    }
   ],
   "source": [
    "frequent_words_nonCritical[0]"
   ]
  },
  {
   "cell_type": "code",
   "execution_count": 17,
   "metadata": {},
   "outputs": [
    {
     "data": {
      "text/plain": [
       "['appeared',\n",
       " 'association',\n",
       " 'carried',\n",
       " 'cells',\n",
       " 'chronic',\n",
       " 'concerning',\n",
       " 'fatigue',\n",
       " 'findings',\n",
       " 'found',\n",
       " 'inconsistent',\n",
       " 'isolation',\n",
       " 'levels',\n",
       " 'negative',\n",
       " 'paper',\n",
       " 'patients',\n",
       " 'previous',\n",
       " 'published',\n",
       " 'report',\n",
       " 'reporting',\n",
       " 'syndrome']"
      ]
     },
     "execution_count": 17,
     "metadata": {},
     "output_type": "execute_result"
    }
   ],
   "source": [
    "frequent_words_highCritical"
   ]
  },
  {
   "cell_type": "code",
   "execution_count": 18,
   "metadata": {},
   "outputs": [
    {
     "data": {
      "text/html": [
       "<div>\n",
       "<style scoped>\n",
       "    .dataframe tbody tr th:only-of-type {\n",
       "        vertical-align: middle;\n",
       "    }\n",
       "\n",
       "    .dataframe tbody tr th {\n",
       "        vertical-align: top;\n",
       "    }\n",
       "\n",
       "    .dataframe thead th {\n",
       "        text-align: right;\n",
       "    }\n",
       "</style>\n",
       "<table border=\"1\" class=\"dataframe\">\n",
       "  <thead>\n",
       "    <tr style=\"text-align: right;\">\n",
       "      <th></th>\n",
       "      <th>citing_DOI</th>\n",
       "      <th>text</th>\n",
       "      <th>label</th>\n",
       "    </tr>\n",
       "  </thead>\n",
       "  <tbody>\n",
       "    <tr>\n",
       "      <th>0</th>\n",
       "      <td>10.3201/eid1606.100066</td>\n",
       "      <td>['&lt;sec sec-type=\"other2\"&gt;&lt;title&gt;Conclusions&lt;/t...</td>\n",
       "      <td>non_critizising</td>\n",
       "    </tr>\n",
       "    <tr>\n",
       "      <th>1</th>\n",
       "      <td>10.1186/1742-4690-7-112</td>\n",
       "      <td>['Additional findings from the Hué study sugge...</td>\n",
       "      <td>non_critizising</td>\n",
       "    </tr>\n",
       "    <tr>\n",
       "      <th>2</th>\n",
       "      <td>10.1186/1479-5876-8-1</td>\n",
       "      <td>['These deficiencies in NK activity may increa...</td>\n",
       "      <td>non_critizising</td>\n",
       "    </tr>\n",
       "    <tr>\n",
       "      <th>3</th>\n",
       "      <td>10.1186/1479-5876-7-96</td>\n",
       "      <td>['Both cell associated and cell-free transmiss...</td>\n",
       "      <td>non_critizising</td>\n",
       "    </tr>\n",
       "    <tr>\n",
       "      <th>4</th>\n",
       "      <td>10.1186/1742-4690-7-111</td>\n",
       "      <td>['&lt;sec&gt;&lt;title&gt;Results and Discussion&lt;/title&gt;&lt;s...</td>\n",
       "      <td>non_critizising</td>\n",
       "    </tr>\n",
       "    <tr>\n",
       "      <th>5</th>\n",
       "      <td>10.1186/1742-4690-7-109</td>\n",
       "      <td>['For this purpose, we accumulated a library o...</td>\n",
       "      <td>non_critizising</td>\n",
       "    </tr>\n",
       "    <tr>\n",
       "      <th>6</th>\n",
       "      <td>10.1186/1742-4690-7-57</td>\n",
       "      <td>['Our results contrast with the high rate of X...</td>\n",
       "      <td>non_critizising</td>\n",
       "    </tr>\n",
       "    <tr>\n",
       "      <th>7</th>\n",
       "      <td>10.1186/1742-4690-7-68</td>\n",
       "      <td>['Several studies have reported detection of r...</td>\n",
       "      <td>non_critizising</td>\n",
       "    </tr>\n",
       "    <tr>\n",
       "      <th>8</th>\n",
       "      <td>10.1186/1471-2377-10-73</td>\n",
       "      <td>['Recently, a link between the xenotropic muri...</td>\n",
       "      <td>non_critizising</td>\n",
       "    </tr>\n",
       "    <tr>\n",
       "      <th>9</th>\n",
       "      <td>10.1186/1744-9081-6-76</td>\n",
       "      <td>['Evidence of xenotropic murine leukemia virus...</td>\n",
       "      <td>non_critizising</td>\n",
       "    </tr>\n",
       "    <tr>\n",
       "      <th>10</th>\n",
       "      <td>10.1186/1479-5876-7-96</td>\n",
       "      <td>['These observations have led to reports of as...</td>\n",
       "      <td>non_critizising</td>\n",
       "    </tr>\n",
       "    <tr>\n",
       "      <th>11</th>\n",
       "      <td>10.1186/1742-4690-7-70</td>\n",
       "      <td>['Importantly, the chromosomal locations of XM...</td>\n",
       "      <td>non_critizising</td>\n",
       "    </tr>\n",
       "    <tr>\n",
       "      <th>12</th>\n",
       "      <td>10.1186/1742-4690-7-112</td>\n",
       "      <td>['&lt;sec&gt;&lt;title&gt;Introduction&lt;/title&gt;&lt;p&gt;Reports o...</td>\n",
       "      <td>non_critizising</td>\n",
       "    </tr>\n",
       "    <tr>\n",
       "      <th>13</th>\n",
       "      <td>10.1186/1742-4690-7-111</td>\n",
       "      <td>['XMRV has also been detected in 1-6% of healt...</td>\n",
       "      <td>non_critizising</td>\n",
       "    </tr>\n",
       "    <tr>\n",
       "      <th>14</th>\n",
       "      <td>10.1186/1742-4690-7-109</td>\n",
       "      <td>['In 2009, it was reported that 67% of chronic...</td>\n",
       "      <td>non_critizising</td>\n",
       "    </tr>\n",
       "    <tr>\n",
       "      <th>15</th>\n",
       "      <td>10.1186/1742-4690-7-108</td>\n",
       "      <td>['Several papers have since demonstrated a lin...</td>\n",
       "      <td>non_critizising</td>\n",
       "    </tr>\n",
       "    <tr>\n",
       "      <th>16</th>\n",
       "      <td>10.1186/1742-4690-7-113</td>\n",
       "      <td>['[&lt;xref ref-type=\"bibr\" rid=\"B3\"&gt;3&lt;/xref&gt;], w...</td>\n",
       "      <td>non_critizising</td>\n",
       "    </tr>\n",
       "    <tr>\n",
       "      <th>17</th>\n",
       "      <td>10.1186/1742-4690-7-57</td>\n",
       "      <td>['In October 2009, Lombardi&lt;italic&gt;et al.&lt;/ita...</td>\n",
       "      <td>non_critizising</td>\n",
       "    </tr>\n",
       "    <tr>\n",
       "      <th>18</th>\n",
       "      <td>10.1186/1742-4690-7-68</td>\n",
       "      <td>['Recently, XMRV has been also identified in 6...</td>\n",
       "      <td>non_critizising</td>\n",
       "    </tr>\n",
       "  </tbody>\n",
       "</table>\n",
       "</div>"
      ],
      "text/plain": [
       "                 citing_DOI  \\\n",
       "0    10.3201/eid1606.100066   \n",
       "1   10.1186/1742-4690-7-112   \n",
       "2     10.1186/1479-5876-8-1   \n",
       "3    10.1186/1479-5876-7-96   \n",
       "4   10.1186/1742-4690-7-111   \n",
       "5   10.1186/1742-4690-7-109   \n",
       "6    10.1186/1742-4690-7-57   \n",
       "7    10.1186/1742-4690-7-68   \n",
       "8   10.1186/1471-2377-10-73   \n",
       "9    10.1186/1744-9081-6-76   \n",
       "10   10.1186/1479-5876-7-96   \n",
       "11   10.1186/1742-4690-7-70   \n",
       "12  10.1186/1742-4690-7-112   \n",
       "13  10.1186/1742-4690-7-111   \n",
       "14  10.1186/1742-4690-7-109   \n",
       "15  10.1186/1742-4690-7-108   \n",
       "16  10.1186/1742-4690-7-113   \n",
       "17   10.1186/1742-4690-7-57   \n",
       "18   10.1186/1742-4690-7-68   \n",
       "\n",
       "                                                 text            label  \n",
       "0   ['<sec sec-type=\"other2\"><title>Conclusions</t...  non_critizising  \n",
       "1   ['Additional findings from the Hué study sugge...  non_critizising  \n",
       "2   ['These deficiencies in NK activity may increa...  non_critizising  \n",
       "3   ['Both cell associated and cell-free transmiss...  non_critizising  \n",
       "4   ['<sec><title>Results and Discussion</title><s...  non_critizising  \n",
       "5   ['For this purpose, we accumulated a library o...  non_critizising  \n",
       "6   ['Our results contrast with the high rate of X...  non_critizising  \n",
       "7   ['Several studies have reported detection of r...  non_critizising  \n",
       "8   ['Recently, a link between the xenotropic muri...  non_critizising  \n",
       "9   ['Evidence of xenotropic murine leukemia virus...  non_critizising  \n",
       "10  ['These observations have led to reports of as...  non_critizising  \n",
       "11  ['Importantly, the chromosomal locations of XM...  non_critizising  \n",
       "12  ['<sec><title>Introduction</title><p>Reports o...  non_critizising  \n",
       "13  ['XMRV has also been detected in 1-6% of healt...  non_critizising  \n",
       "14  ['In 2009, it was reported that 67% of chronic...  non_critizising  \n",
       "15  ['Several papers have since demonstrated a lin...  non_critizising  \n",
       "16  ['[<xref ref-type=\"bibr\" rid=\"B3\">3</xref>], w...  non_critizising  \n",
       "17  ['In October 2009, Lombardi<italic>et al.</ita...  non_critizising  \n",
       "18  ['Recently, XMRV has been also identified in 6...  non_critizising  "
      ]
     },
     "execution_count": 18,
     "metadata": {},
     "output_type": "execute_result"
    }
   ],
   "source": [
    "df_full_nonCritical"
   ]
  },
  {
   "cell_type": "code",
   "execution_count": 19,
   "metadata": {},
   "outputs": [
    {
     "data": {
      "text/html": [
       "<div>\n",
       "<style scoped>\n",
       "    .dataframe tbody tr th:only-of-type {\n",
       "        vertical-align: middle;\n",
       "    }\n",
       "\n",
       "    .dataframe tbody tr th {\n",
       "        vertical-align: top;\n",
       "    }\n",
       "\n",
       "    .dataframe thead th {\n",
       "        text-align: right;\n",
       "    }\n",
       "</style>\n",
       "<table border=\"1\" class=\"dataframe\">\n",
       "  <thead>\n",
       "    <tr style=\"text-align: right;\">\n",
       "      <th></th>\n",
       "      <th>citing_DOI</th>\n",
       "      <th>text</th>\n",
       "      <th>label</th>\n",
       "    </tr>\n",
       "  </thead>\n",
       "  <tbody>\n",
       "    <tr>\n",
       "      <th>3</th>\n",
       "      <td>10.1186/1479-5876-7-96</td>\n",
       "      <td>['Both cell associated and cell-free transmiss...</td>\n",
       "      <td>non_critizising</td>\n",
       "    </tr>\n",
       "    <tr>\n",
       "      <th>15</th>\n",
       "      <td>10.1186/1742-4690-7-108</td>\n",
       "      <td>['Several papers have since demonstrated a lin...</td>\n",
       "      <td>non_critizising</td>\n",
       "    </tr>\n",
       "    <tr>\n",
       "      <th>6</th>\n",
       "      <td>10.1186/1742-4690-7-57</td>\n",
       "      <td>['Our results contrast with the high rate of X...</td>\n",
       "      <td>non_critizising</td>\n",
       "    </tr>\n",
       "    <tr>\n",
       "      <th>10</th>\n",
       "      <td>10.1186/1479-5876-7-96</td>\n",
       "      <td>['These observations have led to reports of as...</td>\n",
       "      <td>non_critizising</td>\n",
       "    </tr>\n",
       "  </tbody>\n",
       "</table>\n",
       "</div>"
      ],
      "text/plain": [
       "                 citing_DOI  \\\n",
       "3    10.1186/1479-5876-7-96   \n",
       "15  10.1186/1742-4690-7-108   \n",
       "6    10.1186/1742-4690-7-57   \n",
       "10   10.1186/1479-5876-7-96   \n",
       "\n",
       "                                                 text            label  \n",
       "3   ['Both cell associated and cell-free transmiss...  non_critizising  \n",
       "15  ['Several papers have since demonstrated a lin...  non_critizising  \n",
       "6   ['Our results contrast with the high rate of X...  non_critizising  \n",
       "10  ['These observations have led to reports of as...  non_critizising  "
      ]
     },
     "execution_count": 19,
     "metadata": {},
     "output_type": "execute_result"
    }
   ],
   "source": [
    "df_full_nonCritical.sample(4, random_state = 1)"
   ]
  }
 ],
 "metadata": {
  "kernelspec": {
   "display_name": "Python 3",
   "language": "python",
   "name": "python3"
  },
  "language_info": {
   "codemirror_mode": {
    "name": "ipython",
    "version": 3
   },
   "file_extension": ".py",
   "mimetype": "text/x-python",
   "name": "python",
   "nbconvert_exporter": "python",
   "pygments_lexer": "ipython3",
   "version": "3.5.2"
  }
 },
 "nbformat": 4,
 "nbformat_minor": 2
}
