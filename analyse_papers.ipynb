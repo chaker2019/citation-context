{
 "cells": [
  {
   "cell_type": "markdown",
   "metadata": {
    "collapsed": true
   },
   "source": [
    "# Joining information from different files to be analysed together."
   ]
  },
  {
   "cell_type": "code",
   "execution_count": null,
   "metadata": {
    "collapsed": true
   },
   "outputs": [],
   "source": [
    "%matplotlib inline"
   ]
  },
  {
   "cell_type": "code",
   "execution_count": null,
   "metadata": {
    "collapsed": true
   },
   "outputs": [],
   "source": [
    "import os\n",
    "import sys\n",
    "import re\n",
    "import pandas as pd\n",
    "import nltk\n",
    "import matplotlib.pylab as plt\n",
    "from matplotlib.ticker import FuncFormatter\n",
    "\n",
    "sys.path.insert(0, \"./modules\")\n",
    "import bs_preprocess\n",
    "import get_df_analise_section"
   ]
  },
  {
   "cell_type": "markdown",
   "metadata": {},
   "source": [
    "# Configuration"
   ]
  },
  {
   "cell_type": "code",
   "execution_count": null,
   "metadata": {
    "collapsed": true
   },
   "outputs": [],
   "source": [
    "data_path = 'data'\n",
    "\n",
    "ds_name = 'DOI_cited_science_1179052_retracted'\n",
    "ds_label = ds_name\n",
    "\n",
    "analysis_path = os.path.join(data_path, 'analysis')\n",
    "\n",
    "# In\n",
    "citing_tsv = os.path.join(analysis_path, '%s.tsv' % ds_name)\n",
    "citing_prep_tsv = os.path.join(analysis_path, '%s_prep.tsv' % ds_name)\n",
    "\n",
    "# Out\n",
    "citing_sections_tsv = os.path.join(analysis_path, '%s_sections.tsv' % ds_name)\n",
    "analysis_hist_tsv = os.path.join(analysis_path, '%s_hist_v2.tsv' % ds_name)"
   ]
  },
  {
   "cell_type": "markdown",
   "metadata": {},
   "source": [
    "# Setup"
   ]
  },
  {
   "cell_type": "code",
   "execution_count": null,
   "metadata": {},
   "outputs": [],
   "source": [
    "# One time download required\n",
    "nltk.download('punkt')"
   ]
  },
  {
   "cell_type": "markdown",
   "metadata": {
    "collapsed": true
   },
   "source": [
    "# 1.- ANALYSIS\n",
    "\n",
    "•\tAnalyse file containing papers citing a particular DOI. This DOI can be read from a file (the one used in get_papers) or directly introduced in a list.\n",
    "•\tBy calling get_df_analise_section it generates a dataframe containing:\n",
    "    \n",
    "    # df['cited_DOI', 'citing_DOI', 'reference_id', 'introduction_found', \n",
    "    #   'cited_in_introduction', 'maintext_found', 'cited_in_maintext', \n",
    "    #   'discussion_found', 'cited_in_discussion', 'conclusions_found', \n",
    "    #   'cited_in_conclusions', 'sentence_citing_intro', \n",
    "    #   'sentence_citing_maintext', 'sentence_citing_discussion', \n",
    "    #   'sentence_citing_conclusions']\n",
    "    \n",
    "-\treference_id is the number of reference of the cited paper in a particular paper. \n",
    "-\t'introduction_found', 'maintext_found', 'discussion_found' and 'conclusions_found' get True/False value depending on whether a particular section has been found.\n",
    "-\t'cited_in_introduction', 'cited_in_maintext', 'cited_in_discussion', 'cited_in_conclusions' get True/False values depending on whether the paper is cited in these sections.\n",
    "-\t'sentence_citing_intro',  'sentence_citing_maintext', 'sentence_citing_discussion',    'sentence_citing_conclusions' are the sentences in each section where the paper is cited.\n",
    "\n",
    "\n",
    "•\tIt also generates another dataframe with information about how many times the paper has been cited in each section: \n",
    "\n",
    "     # dict_citation_hyst ['DOI_cited', 'total_papers_citing', 'papers_all_sections_found',  \n",
    "     #   'cited_in_introduction', 'cited_in_maintext', 'cited_in_discussion', 'cited_in_conlusions']\n",
    "\n",
    "•\tIt saves the dataframes in two files. \n",
    "Note: For “df” only the information of the last paper (cited_DOI) analysed is saved \n",
    "\n",
    "\n"
   ]
  },
  {
   "cell_type": "code",
   "execution_count": null,
   "metadata": {},
   "outputs": [],
   "source": [
    "list_df_analysis = []\n",
    "list_citation_hyst = []\n",
    "\n",
    "list_DOIs = [\"10.1126/science.1179052\"]\n",
    "df_articles = pd.read_csv(citing_prep_tsv, sep='\\t', encoding='utf-8')\n",
    "\n",
    "\n",
    "for DOI in list_DOIs: \n",
    "\n",
    "    df_articles_citingDOI = df_articles[df_articles['DOI_cited'] == DOI]['article_citing']\n",
    "    list_articles_citingDOI = df_articles_citingDOI.values.tolist()\n",
    "\n",
    "    df = get_df_analise_section.get_df(DOI, list_articles_citingDOI)\n",
    "\n",
    "\n",
    "    total_papers = df.shape[0]\n",
    "    # mask1: sections found\n",
    "    mask1 = (df['introduction_found'] == True) | ((df['discussion_found'] == True) | (df['conclusions_found'] == True))  \n",
    "\n",
    "    # mask2: the reference is found at least in one section\n",
    "    mask2 = (df['cited_in_introduction'] == True) | (df['cited_in_maintext'] == True) | (df['conclusions_found'] == True) | df['sentence_citing_conclusions'] == True\n",
    "     \n",
    "    mask = mask1 #& mask2\n",
    "    \n",
    "    papers_all_sections_found = df[mask].shape[0]\n",
    "    print(papers_all_sections_found)\n",
    "    \n",
    "    print(\"papers_all_sections_found:  \", papers_all_sections_found)\n",
    "\n",
    "    found_in_percentages = (df[mask].select_dtypes(include=['bool']).sum() / papers_all_sections_found).to_dict()\n",
    "\n",
    "    list_citation_hyst.append({\n",
    "        'DOI_cited': DOI,  \n",
    "       'total_papers_citing': total_papers,\n",
    "       'papers_all_sections_found': papers_all_sections_found,\n",
    "        **{\n",
    "            k: found_in_percentages.get(k, 0)\n",
    "            for k in {'cited_in_introduction', 'cited_in_maintext', 'cited_in_discussion', 'cited_in_conclusions'}\n",
    "        }\n",
    "    })\n",
    "\n",
    "pd_citation_hyst = pd.DataFrame(list_citation_hyst) \n",
    "\n",
    "\n",
    "############### SAVING IN FILES #####################\n",
    "df.to_csv(citing_sections_tsv, index=False, sep='\\t', encoding='utf-8')\n",
    "print('Wrote to:', citing_sections_tsv)\n",
    "\n",
    "pd_citation_hyst.to_csv(analysis_hist_tsv, index=False, sep='\\t', encoding='utf-8')\n",
    "print('Wrote to:', analysis_hist_tsv)"
   ]
  },
  {
   "cell_type": "markdown",
   "metadata": {},
   "source": [
    "# 2.- PLOT\n",
    "\n",
    "•\tPlot the analysis (file_df_analysis_hist). \n",
    "-\tFor multiple papers (used to plot the analysis of papers having the same number of citations)\n",
    "-\tJust for one.\n"
   ]
  },
  {
   "cell_type": "code",
   "execution_count": null,
   "metadata": {},
   "outputs": [],
   "source": [
    "\n",
    "# Reading the pd_citation_hyst from file:\n",
    "pd_citation_hyst = pd.read_csv(\n",
    "    analysis_hist_tsv,\n",
    "    sep='\\t',\n",
    "    encoding='utf-8'\n",
    ")\n",
    "\n",
    "figure = (\n",
    "    pd_citation_hyst\n",
    "    .set_index('DOI_cited')\n",
    "    [['cited_in_introduction', 'cited_in_maintext','cited_in_discussion', 'cited_in_conclusions']]\n",
    "    .plot(kind='bar')\n",
    ")\n",
    "plt.xticks(rotation=25, ha ='right')\n",
    "plt.xlabel(\"DOI of manuscript cited\")\n",
    "plt.ylabel(\"Referenced in section (%)\")\n",
    "figure.yaxis.set_major_formatter(FuncFormatter(lambda y, _: str(y * 100))) \n",
    "plt.ylim([0, 1.0])\n",
    "plt.legend(['Introduction', 'Main text','Discussion', 'Conclusions'], loc='upper right', bbox_to_anchor=(1.314, 1.015), ncol = 1)\n",
    "plt.title(ds_label)"
   ]
  },
  {
   "cell_type": "code",
   "execution_count": null,
   "metadata": {
    "scrolled": true
   },
   "outputs": [],
   "source": [
    "pd_citation_hyst = pd.read_csv(\n",
    "    analysis_hist_tsv,\n",
    "    sep='\\t',\n",
    "    encoding='utf-8'\n",
    ")                                                              \n",
    "pd_citation_hyst[['DOI_cited','papers_all_sections_found', 'total_papers_citing']]"
   ]
  },
  {
   "cell_type": "markdown",
   "metadata": {
    "collapsed": true
   },
   "source": [
    "# 3. ANALYSING AND PLOTTING JUST 1 paper"
   ]
  },
  {
   "cell_type": "code",
   "execution_count": null,
   "metadata": {},
   "outputs": [],
   "source": [
    "# List of DOIs we will study.\n",
    "# We will study manuscripts that above a certain number of citations within our dataset.\n",
    "minimun_number_citations = 10\n",
    "list_DOIs = df_articles.groupby('DOI_cited').size().pipe(\n",
    "    lambda df: df[df > minimun_number_citations]\n",
    ").index.values\n",
    "print('dois with the required minimum number of citations of %d: %s' % (minimun_number_citations, list_DOIs))\n",
    "\n",
    "DOI =  list_DOIs[0]\n",
    "\n",
    "df_articles_citingDOI = df_articles[df_articles['DOI_cited'] == DOI]['article_citing']\n",
    "list_articles_citingDOI = df_articles_citingDOI.values.tolist()\n",
    "    \n",
    "df = get_df_analise_section.get_df(DOI, list_articles_citingDOI)\n",
    "\n",
    "total_papers = df.shape[0]\n",
    "# mask1: sections found\n",
    "mask1 = (df['introduction_found'] == True) & ((df['discussion_found'] == True) )#| (df['conclusions_found'] == True))  \n",
    "# mask2: the reference is found at least in one section\n",
    "mask2 = (df['cited_in_introduction'] == True) | (df['cited_in_maintext'] == True) | (df['conclusions_found'] == True) | df['sentence_citing_conclusions'] == True\n",
    "     \n",
    "mask = mask1 & mask2\n",
    "    \n",
    "papers_all_sections_found = len(df[mask])\n",
    "    \n",
    "print(\"papers_all_sections_found: \", papers_all_sections_found)\n",
    "\n",
    "found_in_percentages = (df[mask].select_dtypes(include=['bool']).sum() / papers_all_sections_found).to_dict()\n",
    "    \n",
    "pd_citation_hyst = pd.DataFrame([{\n",
    "    'DOI_cited': DOI,  \n",
    "   'total_papers_citing': total_papers,\n",
    "   'papers_all_sections_found': papers_all_sections_found,\n",
    "    **{\n",
    "        k: found_in_percentages.get(k, 0)\n",
    "        for k in {'cited_in_introduction', 'cited_in_maintext', 'cited_in_discussion', 'cited_in_conclusions'}\n",
    "    }\n",
    "}])"
   ]
  },
  {
   "cell_type": "code",
   "execution_count": null,
   "metadata": {},
   "outputs": [],
   "source": [
    "figure = (\n",
    "    pd_citation_hyst\n",
    "    .set_index('DOI_cited')\n",
    "    [['cited_in_introduction', 'cited_in_maintext','cited_in_discussion', 'cited_in_conclusions']]\n",
    "    .plot(kind='bar')\n",
    ")\n",
    "plt.xticks(rotation=0, ha ='right', fontsize=14)\n",
    "plt.xlabel(\"DOI of manuscript cited\", fontsize=14)\n",
    "plt.ylabel(\"Referenced in section (%)\", fontsize=14)\n",
    "\n",
    "\n",
    "figure.spines[\"top\"].set_visible(False)    \n",
    "figure.spines[\"bottom\"].set_visible(True)    \n",
    "figure.spines[\"right\"].set_visible(False)    \n",
    "figure.spines[\"left\"].set_visible(True)    \n",
    "\n",
    "\n",
    "figure.yaxis.set_major_formatter(FuncFormatter(lambda y, _: str(y * 100))) \n",
    "\n",
    "plt.ylim([0, 0.80])\n",
    "plt.legend(\n",
    "    ['Introduction', 'Main text','Discussion', 'Conclusions'],\n",
    "    loc='upper right',\n",
    "    bbox_to_anchor=(1.013, 1.017),\n",
    "    ncol=2\n",
    ")"
   ]
  }
 ],
 "metadata": {
  "kernelspec": {
   "display_name": "Python 3",
   "language": "python",
   "name": "python3"
  },
  "language_info": {
   "codemirror_mode": {
    "name": "ipython",
    "version": 3
   },
   "file_extension": ".py",
   "mimetype": "text/x-python",
   "name": "python",
   "nbconvert_exporter": "python",
   "pygments_lexer": "ipython3",
   "version": "3.5.2"
  }
 },
 "nbformat": 4,
 "nbformat_minor": 2
}
