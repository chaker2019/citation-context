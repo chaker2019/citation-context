{
 "cells": [
  {
   "cell_type": "markdown",
   "metadata": {},
   "source": [
    "# Get list of cited DOIs to analyze"
   ]
  },
  {
   "cell_type": "code",
   "execution_count": 1,
   "metadata": {},
   "outputs": [
    {
     "data": {
      "text/plain": [
       "\"\\n\\n# citations 1000-1100\\nDOI_list = ['10.1126/science.1235122','10.7326/0003-4819-121-12-199412150-00009','10.1111/j.1538-7836.2006.01753.x','10.1056/NEJMoa021641','10.1007/978-3-642-69746-3_2', '10.1126/science.8197455', '10.1007/978-1-4613-4446-9', '10.1073/pnas.0135058100', '10.1038/5007','10.1111/j.1468-5914.1990.tb00174.x']\\n\\n\\n# citations 2000-2100\\nDOI_list = ['10.1183/09031936.05.00034805', '10.1207/S15328007SEM0902_5','10.1070/PU1968v010n04ABEH003699', '10.1038/nmeth.1701', '10.1016/S0032-9592(98)00112-5','10.1021/ac60131a045', '10.1073/pnas.1530509100', '10.1126/science.279.5350.548','10.1126/science.1058040', '10.1126/science.1209688']\\n\\n#citations 3000-3100\\nDOI_list = ['10.1016/j.carbon.2007.02.034', '10.1113/jphysiol.1952.sp004764', '10.1093/geront/9.3_Part_1.179', '10.1021/cr00033a004', '10.1056/NEJM199901143400207', '10.1038/451652a','10.1137/S003614450342480', '10.1093/jnci/92.3.205', '10.1002/jcc.20289', '10.1186/gb-2002-3-7-research0034']\\n\\n#citations 4000-4100\\nDOI_list = ['10.1093/comjnl/7.4.308', '10.1126/science.284.5411.143', '10.1002/(SICI)1097-0266(199708)18:7<509::AID-SMJ882', '10.1017/CBO9780511815478', '10.1038/nmeth.f.303', '10.1136/jnnp.23.1.56', '10.1371/journal.pmed.1000097']\\n\\n#citations 5000-5400\\nDOI_list =  ['10.1093/nar/28.1.235', '10.1103/PhysRevLett.45.566', '10.1086/228943', '10.1063/1.448118', '10.1103/PhysRevB.46.6671', '10.1021/ac60111a017']\\n\\n\\n#citations 6000-6300\\nDOI_list = ['10.1002/j.1538-7305.1948.tb01338.x', '10.1073/pnas.76.9.4350','10.1038/30918', '10.1007/BF02310555', '10.1017/CBO9780511803932']\\n\\n\\n#citations 7000-7200\\nDOI_list = ['10.1107/S0907444904019158', '10.1063/1.456153', '10.1016/0003-2697(87)90021-2', '10.1016/S0076-6879(97)76066-X', '10.1093/nar/gkh340']\\n\\n#citations > 8000\\nDOI_list = ['10.1103/PhysRevB.54.11169', '10.1038/354056a0', '10.1093/nar/22.22.4673', '10.1016/0022-1759(83)90303-4', '10.1016/S0140-6736(86)90837-8']                  \\n\""
      ]
     },
     "execution_count": 1,
     "metadata": {},
     "output_type": "execute_result"
    }
   ],
   "source": [
    "import os\n",
    "import subprocess\n",
    "from bs4 import BeautifulSoup\n",
    "import glob\n",
    "\n",
    "import pandas as pd\n",
    "\n",
    "# 1. List of DOIs\n",
    "DOI_list = [\"10.1126/science.1179052\"]\n",
    "out_csv = '/project/elife/data/data2v/DOI_cited_science_1179052_retracted.csv'\n",
    "\n",
    "# 2. Reading list of DOIs from file\n",
    "#file_to_read = '/project/elife/data/data2v/DOI_cited_1000v2.csv' #file with cited DOIs\n",
    "#out_csv = '/project/elife/data/data2v/DOI_cited_1000v2_papers.csv'\n",
    "\n",
    "#df_info_doi = pd.read_csv(file_to_read, sep='\\t', header = None, encoding='utf-8')\n",
    "#DOI_list = df_info_doi[1].tolist()\n",
    "\n"
   ]
  },
  {
   "cell_type": "markdown",
   "metadata": {},
   "source": [
    "# Find papers in FTP_PUBMED citing these DOIs"
   ]
  },
  {
   "cell_type": "code",
   "execution_count": 2,
   "metadata": {},
   "outputs": [
    {
     "name": "stdout",
     "output_type": "stream",
     "text": [
      "10.1126/science.1179052\n",
      "/project/FTP_PUBMED_papers/comm_use.C-H.xml.tar.gz\n",
      "/project/FTP_PUBMED_papers/non_comm_use.O-Z.xml.tar.gz\n",
      "/project/FTP_PUBMED_papers/comm_use.A-B.xml.tar.gz\n",
      "/project/FTP_PUBMED_papers/comm_use.I-N.xml.tar.gz\n",
      "/project/FTP_PUBMED_papers/non_comm_use.A-B.xml.tar.gz\n",
      "zgrep returned non-zero exit status 1 when searching at /project/FTP_PUBMED_papers/non_comm_use.A-B.xml.tar.gz\n",
      "Subprocess output: b''\n",
      "/project/FTP_PUBMED_papers/non_comm_use.C-H.xml.tar.gz\n",
      "/project/FTP_PUBMED_papers/non_comm_use.I-N.xml.tar.gz\n",
      "zgrep returned non-zero exit status 1 when searching at /project/FTP_PUBMED_papers/non_comm_use.I-N.xml.tar.gz\n",
      "Subprocess output: b''\n",
      "/project/FTP_PUBMED_papers/comm_use.O-Z.xml.tar.gz\n",
      "Data saved\n"
     ]
    }
   ],
   "source": [
    "import os\n",
    "import subprocess\n",
    "from bs4 import BeautifulSoup\n",
    "import glob\n",
    "\n",
    "import pandas as pd\n",
    "\n",
    "\n",
    "os.chdir('/project/FTP_PUBMED_papers')\n",
    "os.getcwd()\n",
    "\n",
    "# out_csv = '/project/elife/data/data2v/DOI_cited_1000v2_papers.csv'\n",
    "\n",
    "for DOI in DOI_list:\n",
    "    print(DOI)\n",
    "    DOI_cited_in  = \" \"\n",
    "    for filename in glob.iglob('/project/FTP_PUBMED_papers/*'):\n",
    "        try:\n",
    "            print('%s' % filename)\n",
    "            just_filename = filename.replace('/project/FTP_PUBMED_papers/', ' ')\n",
    "            bashCommand = \"zgrep -a \" + DOI + \" \" + just_filename\n",
    "            DOI_cited_in_bytes = subprocess.check_output(bashCommand, shell=True)\n",
    "            DOI_cited_in = DOI_cited_in + \" \" + DOI_cited_in_bytes.decode(\"utf-8\") # conver bytes into strings\n",
    "\n",
    "        except subprocess.CalledProcessError as e:\n",
    "            print('zgrep returned non-zero exit status 1 when searching at %s' % filename)\n",
    "            print(\"Subprocess output:\", e.output)\n",
    "\n",
    "     #   print(\"Saving data in file\")\n",
    "     #   df = pd.DataFrame({\"DOI\":DOI, \"articles_citing\": DOI_cited_in}, [0])\n",
    "     #   df.to_csv(out_csv,header=False, mode='a', sep='\\t', encoding='utf-8')\n",
    "     #   print(\"Data saved\")\n",
    "\n",
    "    \n",
    "    list_articles_citing = []\n",
    "    DOI_cited_in_BS = BeautifulSoup(DOI_cited_in, \"lxml\")\n",
    "    for article in DOI_cited_in_BS.prettify().split('</article>'):\n",
    "        article_BS = BeautifulSoup(article, \"lxml\")# Not all the articles start or finish with this tag.\n",
    "        for article2 in article_BS.prettify().split('</back>'): #('<article article-type'): #In some cases the seaparation between 2 articles i<\\ref> <article article-type> \n",
    "            if (DOI in article2) and (len(str(article2)) > 800): #To remove spliting of some end-tags\n",
    "                list_articles_citing.append(article2)\n",
    "    \n",
    "    df2 = pd.DataFrame({})\n",
    "    for article in list_articles_citing:\n",
    "        df2 = df2.append([{'DOI': DOI, 'articles_citing':article}])\n",
    "    \n",
    "    df2.to_csv(out_csv,header=False, mode='a', sep='\\t', encoding='utf-8')\n",
    "    print(\"Data saved\")\n",
    "\n",
    "    \n"
   ]
  },
  {
   "cell_type": "markdown",
   "metadata": {},
   "source": [
    "# Checking files"
   ]
  },
  {
   "cell_type": "code",
   "execution_count": 9,
   "metadata": {},
   "outputs": [
    {
     "data": {
      "text/html": [
       "<div>\n",
       "<style>\n",
       "    .dataframe thead tr:only-child th {\n",
       "        text-align: right;\n",
       "    }\n",
       "\n",
       "    .dataframe thead th {\n",
       "        text-align: left;\n",
       "    }\n",
       "\n",
       "    .dataframe tbody tr th {\n",
       "        vertical-align: top;\n",
       "    }\n",
       "</style>\n",
       "<table border=\"1\" class=\"dataframe\">\n",
       "  <thead>\n",
       "    <tr style=\"text-align: right;\">\n",
       "      <th></th>\n",
       "      <th>DOI_cites</th>\n",
       "      <th>article_citing</th>\n",
       "    </tr>\n",
       "  </thead>\n",
       "  <tbody>\n",
       "    <tr>\n",
       "      <th>count</th>\n",
       "      <td>804</td>\n",
       "      <td>804</td>\n",
       "    </tr>\n",
       "    <tr>\n",
       "      <th>unique</th>\n",
       "      <td>3</td>\n",
       "      <td>804</td>\n",
       "    </tr>\n",
       "    <tr>\n",
       "      <th>top</th>\n",
       "      <td>10.1093/nar/28.1.235</td>\n",
       "      <td>\\n  Beilstein_J_Nanotechnol/PMC4979881.nxml   ...</td>\n",
       "    </tr>\n",
       "    <tr>\n",
       "      <th>freq</th>\n",
       "      <td>692</td>\n",
       "      <td>1</td>\n",
       "    </tr>\n",
       "  </tbody>\n",
       "</table>\n",
       "</div>"
      ],
      "text/plain": [
       "                   DOI_cites  \\\n",
       "count                    804   \n",
       "unique                     3   \n",
       "top     10.1093/nar/28.1.235   \n",
       "freq                     692   \n",
       "\n",
       "                                           article_citing  \n",
       "count                                                 804  \n",
       "unique                                                804  \n",
       "top     \\n  Beilstein_J_Nanotechnol/PMC4979881.nxml   ...  \n",
       "freq                                                    1  "
      ]
     },
     "execution_count": 9,
     "metadata": {},
     "output_type": "execute_result"
    }
   ],
   "source": [
    "import pandas as pd\n",
    "file_csv = '/project/elife/data/DOI_cited_5000.csv'\n",
    "df1000 = pd.read_csv(file_csv, sep='\\t', header = None, encoding='utf-8', names = ['DOI_cites', 'article_citing'])\n",
    "df1000.reset_index()\n",
    "df1000.describe()"
   ]
  },
  {
   "cell_type": "code",
   "execution_count": 10,
   "metadata": {},
   "outputs": [
    {
     "name": "stdout",
     "output_type": "stream",
     "text": [
      "(692, 2) \t\t 10.1093/nar/28.1.235\n",
      "(98, 2) \t\t 10.1063/1.448118\n",
      "(14, 2) \t\t 10.1103/PhysRevB.46.6671\n"
     ]
    }
   ],
   "source": [
    "for DOI in df1000.DOI_cites.unique():\n",
    "    print(df1000[df1000['DOI_cites'] == DOI].shape, '\\t\\t', DOI)"
   ]
  },
  {
   "cell_type": "markdown",
   "metadata": {},
   "source": [
    "# Prepocessing data. Remove random spaces and store in a new file."
   ]
  },
  {
   "cell_type": "code",
   "execution_count": 3,
   "metadata": {
    "collapsed": true
   },
   "outputs": [],
   "source": [
    "import sys\n",
    "sys.path.insert(0, \"/project/elife/modules\")\n",
    "import re\n",
    "import bs_preprocess\n",
    "import pandas as pd\n",
    "\n",
    "# file to read \n",
    "#file_csv = '/project/elife/data/data2v/DOI_cited_1000v2_papers.csv'\n",
    "file_csv = '/project/elife/data/data2v/DOI_cited_science_1179052_retracted.csv'\n",
    "\n",
    "df1000 = pd.read_csv(file_csv, sep='\\t', header = None, encoding='utf-8', names = ['DOI_cited', 'article_citing'])\n",
    "df1000.reset_index()\n",
    "\n",
    "# preprocess data\n",
    "df1000['article_citing'] = df1000['article_citing'].apply(bs_preprocess.bs_preprocess)    \n",
    "\n",
    "# save data\n",
    "out_csv = '/project/elife/data/data2v/DOI_cited_science_1179052_retracted_prep.csv'\n",
    "#out_csv = '/project/elife/data/data2v/DOI_cited_1000v2_papers_preprocess.csv'\n",
    "\n",
    "df1000.to_csv(out_csv,header=False, mode='a', sep='\\t', encoding='utf-8')\n",
    "\n"
   ]
  }
 ],
 "metadata": {
  "kernelspec": {
   "display_name": "Python [conda env:Python3]",
   "language": "python",
   "name": "conda-env-Python3-py"
  },
  "language_info": {
   "codemirror_mode": {
    "name": "ipython",
    "version": 3
   },
   "file_extension": ".py",
   "mimetype": "text/x-python",
   "name": "python",
   "nbconvert_exporter": "python",
   "pygments_lexer": "ipython3",
   "version": "3.6.1"
  }
 },
 "nbformat": 4,
 "nbformat_minor": 2
}
