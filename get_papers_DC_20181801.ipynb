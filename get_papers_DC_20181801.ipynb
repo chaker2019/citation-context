{
 "cells": [
  {
   "cell_type": "markdown",
   "metadata": {},
   "source": [
    "# Get list of cited DOIs to analyze"
   ]
  },
  {
   "cell_type": "code",
   "execution_count": 1,
   "metadata": {
    "collapsed": true
   },
   "outputs": [],
   "source": [
    "import sys\n",
    "import os\n",
    "import subprocess\n",
    "from bs4 import BeautifulSoup\n",
    "import glob\n",
    "\n",
    "import pandas as pd\n",
    "\n",
    "sys.path.insert(0, \"./modules\")\n",
    "import bs_preprocess"
   ]
  },
  {
   "cell_type": "markdown",
   "metadata": {},
   "source": [
    "# Configuration"
   ]
  },
  {
   "cell_type": "code",
   "execution_count": 2,
   "metadata": {
    "collapsed": true
   },
   "outputs": [],
   "source": [
    "DOI_list = [\"10.1126/science.1179052\"]\n",
    "ds_name = 'DOI_cited_science_1179052_retracted'\n",
    "\n",
    "\n",
    "data_path = 'data'\n",
    "try:\n",
    "    os.mkdir(data_path)\n",
    "except FileExistsError:\n",
    "    pass\n",
    "\n",
    "FTP_PUBMED_papers = os.path.join(data_path, 'FTP_PUBMED_papers')\n",
    "try:\n",
    "    os.mkdir(FTP_PUBMED_papers)\n",
    "except FileExistsError:\n",
    "    pass\n",
    "\n",
    "analysis_path = os.path.join(data_path, 'analysis')\n",
    "try:\n",
    "    os.mkdir(analysis_path)\n",
    "except FileExistsError:\n",
    "    pass\n",
    "\n",
    "citing_tsv = os.path.join(analysis_path, '%s.tsv' % ds_name)\n",
    "citing_prep_tsv = os.path.join(analysis_path, '%s_prep.tsv' % ds_name)\n"
   ]
  },
  {
   "cell_type": "code",
   "execution_count": 10,
   "metadata": {},
   "outputs": [
    {
     "data": {
      "text/plain": [
       "'/project/citation-context'"
      ]
     },
     "execution_count": 10,
     "metadata": {},
     "output_type": "execute_result"
    }
   ],
   "source": [
    "os.getcwd()"
   ]
  },
  {
   "cell_type": "markdown",
   "metadata": {},
   "source": [
    "# Download files from PUBMED Central"
   ]
  },
  {
   "cell_type": "code",
   "execution_count": 3,
   "metadata": {},
   "outputs": [
    {
     "name": "stdout",
     "output_type": "stream",
     "text": [
      "Downloading FTP_PUBMED papers...\n",
      "Files saved at  data/FTP_PUBMED_papers\n"
     ]
    }
   ],
   "source": [
    "print(\"Downloading FTP_PUBMED papers...\")\n",
    "currentdir= os.getcwd()\n",
    "os.chdir('./' + FTP_PUBMED_papers)\n",
    "bashCommand = \"wget ftp://ftp.ncbi.nlm.nih.gov/pub/pmc/oa_bulk/*N.xml.tar.gz\"\n",
    "DOI_cited_in_bytes = subprocess.check_output(bashCommand, shell=True)\n",
    "os.chdir(currentdir)\n",
    "print(\"Files saved at \", FTP_PUBMED_papers)"
   ]
  },
  {
   "cell_type": "markdown",
   "metadata": {},
   "source": [
    "# Find papers in FTP_PUBMED citing these DOIs"
   ]
  },
  {
   "cell_type": "code",
   "execution_count": 5,
   "metadata": {},
   "outputs": [
    {
     "name": "stdout",
     "output_type": "stream",
     "text": [
      "10.1126/science.1179052\n",
      "data/FTP_PUBMED_papers/comm_use.I-N.xml.tar.gz\n",
      "data/FTP_PUBMED_papers/non_comm_use.I-N.xml.tar.gz\n",
      "Data saved to data/analysis/DOI_cited_science_1179052_retracted.tsv\n"
     ]
    }
   ],
   "source": [
    "if not os.path.isdir(FTP_PUBMED_papers):\n",
    "    raise RuntimeError('%s does not exist, did you download the data?' % FTP_PUBMED_papers)\n",
    "\n",
    "if os.path.isfile(citing_tsv):\n",
    "    os.remove(citing_tsv)\n",
    "\n",
    "for doi_index, DOI in enumerate(DOI_list):\n",
    "    print(DOI)\n",
    "    DOI_cited_in  = \" \"\n",
    "    for filename in sorted(glob.glob(FTP_PUBMED_papers + '/*')):\n",
    "        if not os.path.isfile(filename):\n",
    "            continue\n",
    "        print('%s' % filename)\n",
    "        command = [\"zgrep\", \"-a\", DOI, filename]\n",
    "        try:\n",
    "            DOI_cited_in_bytes = subprocess.check_output(\n",
    "                command,\n",
    "                stderr=subprocess.STDOUT\n",
    "            )\n",
    "            DOI_cited_in = DOI_cited_in + \" \" + DOI_cited_in_bytes.decode(\"utf-8\") # conver bytes into strings\n",
    "\n",
    "        except subprocess.CalledProcessError as e:\n",
    "            if e.returncode == 1 and not e.output:\n",
    "                # assume it just didn't find anything\n",
    "                pass\n",
    "            else:\n",
    "                print(\"Subprocess output:\", e.output)\n",
    "                raise RuntimeError(\n",
    "                    'non-zero exit status %d for command %s' % (e.returncode, command)\n",
    "                )\n",
    "    \n",
    "    list_articles_citing = []\n",
    "    DOI_cited_in_BS = BeautifulSoup(DOI_cited_in, \"lxml\")\n",
    "    for article in DOI_cited_in_BS.prettify().split('</article>'):\n",
    "        # Not all the articles start or finish with this tag.\n",
    "        article_BS = BeautifulSoup(article, \"lxml\")\n",
    "        # ('<article article-type'): #In some cases the seaparation between 2 articles i<\\ref> <article article-type> \n",
    "        for article2 in article_BS.prettify().split('</back>'):\n",
    "            # To remove spliting of some end-tags\n",
    "            if (DOI in article2) and (len(str(article2)) > 800):\n",
    "                list_articles_citing.append(article2)\n",
    "\n",
    "    if not list_articles_citing:\n",
    "        raise RuntimeError('no articles matching criteria found')\n",
    "\n",
    "    df2 = pd.DataFrame([\n",
    "        [DOI, article_citing]\n",
    "        for article_citing in list_articles_citing\n",
    "    ], columns=['DOI_cited', 'article_citing'])\n",
    "    \n",
    "    df2.to_csv(\n",
    "        citing_tsv,\n",
    "        header=doi_index == 0,\n",
    "        index=False,\n",
    "        mode='w' if doi_index == 0 else 'a',\n",
    "        sep='\\t',\n",
    "        encoding='utf-8'\n",
    "    )\n",
    "    print(\"Data saved to\", citing_tsv)"
   ]
  },
  {
   "cell_type": "markdown",
   "metadata": {},
   "source": [
    "# Checking files"
   ]
  },
  {
   "cell_type": "code",
   "execution_count": 6,
   "metadata": {},
   "outputs": [
    {
     "data": {
      "text/html": [
       "<div>\n",
       "<style>\n",
       "    .dataframe thead tr:only-child th {\n",
       "        text-align: right;\n",
       "    }\n",
       "\n",
       "    .dataframe thead th {\n",
       "        text-align: left;\n",
       "    }\n",
       "\n",
       "    .dataframe tbody tr th {\n",
       "        vertical-align: top;\n",
       "    }\n",
       "</style>\n",
       "<table border=\"1\" class=\"dataframe\">\n",
       "  <thead>\n",
       "    <tr style=\"text-align: right;\">\n",
       "      <th></th>\n",
       "      <th>DOI_cited</th>\n",
       "      <th>article_citing</th>\n",
       "    </tr>\n",
       "  </thead>\n",
       "  <tbody>\n",
       "    <tr>\n",
       "      <th>count</th>\n",
       "      <td>5</td>\n",
       "      <td>5</td>\n",
       "    </tr>\n",
       "    <tr>\n",
       "      <th>unique</th>\n",
       "      <td>1</td>\n",
       "      <td>5</td>\n",
       "    </tr>\n",
       "    <tr>\n",
       "      <th>top</th>\n",
       "      <td>10.1126/science.1179052</td>\n",
       "      <td>&lt;html&gt;\\n &lt;body&gt;\\n  &lt;p&gt;\\n   Mol_Autism/PMC31355...</td>\n",
       "    </tr>\n",
       "    <tr>\n",
       "      <th>freq</th>\n",
       "      <td>5</td>\n",
       "      <td>1</td>\n",
       "    </tr>\n",
       "  </tbody>\n",
       "</table>\n",
       "</div>"
      ],
      "text/plain": [
       "                      DOI_cited  \\\n",
       "count                         5   \n",
       "unique                        1   \n",
       "top     10.1126/science.1179052   \n",
       "freq                          5   \n",
       "\n",
       "                                           article_citing  \n",
       "count                                                   5  \n",
       "unique                                                  5  \n",
       "top     <html>\\n <body>\\n  <p>\\n   Mol_Autism/PMC31355...  \n",
       "freq                                                    1  "
      ]
     },
     "execution_count": 6,
     "metadata": {},
     "output_type": "execute_result"
    }
   ],
   "source": [
    "read_citing_tsv = lambda filename: pd.read_csv(\n",
    "    filename,\n",
    "    sep='\\t',\n",
    "    encoding='utf-8'\n",
    ")\n",
    "\n",
    "df_citing = read_citing_tsv(citing_tsv)\n",
    "df_citing.describe()"
   ]
  },
  {
   "cell_type": "code",
   "execution_count": 7,
   "metadata": {},
   "outputs": [
    {
     "data": {
      "text/html": [
       "<div>\n",
       "<style>\n",
       "    .dataframe thead tr:only-child th {\n",
       "        text-align: right;\n",
       "    }\n",
       "\n",
       "    .dataframe thead th {\n",
       "        text-align: left;\n",
       "    }\n",
       "\n",
       "    .dataframe tbody tr th {\n",
       "        vertical-align: top;\n",
       "    }\n",
       "</style>\n",
       "<table border=\"1\" class=\"dataframe\">\n",
       "  <thead>\n",
       "    <tr style=\"text-align: right;\">\n",
       "      <th></th>\n",
       "      <th>DOI_cited</th>\n",
       "      <th>article_citing</th>\n",
       "    </tr>\n",
       "  </thead>\n",
       "  <tbody>\n",
       "    <tr>\n",
       "      <th>0</th>\n",
       "      <td>10.1126/science.1179052</td>\n",
       "      <td>&lt;html&gt;\\n &lt;body&gt;\\n  &lt;pub-id pub-id-type=\"doi\"&gt;\\...</td>\n",
       "    </tr>\n",
       "    <tr>\n",
       "      <th>1</th>\n",
       "      <td>10.1126/science.1179052</td>\n",
       "      <td>&lt;html&gt;\\n &lt;body&gt;\\n  &lt;p&gt;\\n   J_Transl_Med/PMC283...</td>\n",
       "    </tr>\n",
       "    <tr>\n",
       "      <th>2</th>\n",
       "      <td>10.1126/science.1179052</td>\n",
       "      <td>&lt;html&gt;\\n &lt;body&gt;\\n  &lt;p&gt;\\n   J_Transl_Med/PMC203...</td>\n",
       "    </tr>\n",
       "    <tr>\n",
       "      <th>3</th>\n",
       "      <td>10.1126/science.1179052</td>\n",
       "      <td>\\n &lt;p&gt;\\n  J_Transl_Med/PMC3551724.nxml        ...</td>\n",
       "    </tr>\n",
       "    <tr>\n",
       "      <th>4</th>\n",
       "      <td>10.1126/science.1179052</td>\n",
       "      <td>&lt;html&gt;\\n &lt;body&gt;\\n  &lt;p&gt;\\n   Mol_Autism/PMC31355...</td>\n",
       "    </tr>\n",
       "  </tbody>\n",
       "</table>\n",
       "</div>"
      ],
      "text/plain": [
       "                 DOI_cited                                     article_citing\n",
       "0  10.1126/science.1179052  <html>\\n <body>\\n  <pub-id pub-id-type=\"doi\">\\...\n",
       "1  10.1126/science.1179052  <html>\\n <body>\\n  <p>\\n   J_Transl_Med/PMC283...\n",
       "2  10.1126/science.1179052  <html>\\n <body>\\n  <p>\\n   J_Transl_Med/PMC203...\n",
       "3  10.1126/science.1179052  \\n <p>\\n  J_Transl_Med/PMC3551724.nxml        ...\n",
       "4  10.1126/science.1179052  <html>\\n <body>\\n  <p>\\n   Mol_Autism/PMC31355..."
      ]
     },
     "execution_count": 7,
     "metadata": {},
     "output_type": "execute_result"
    }
   ],
   "source": [
    "df_citing.head()"
   ]
  },
  {
   "cell_type": "code",
   "execution_count": 8,
   "metadata": {},
   "outputs": [
    {
     "name": "stdout",
     "output_type": "stream",
     "text": [
      "(5, 2) \t\t 10.1126/science.1179052\n"
     ]
    }
   ],
   "source": [
    "for DOI in df_citing.DOI_cited.unique():\n",
    "    print(df_citing[df_citing['DOI_cited'] == DOI].shape, '\\t\\t', DOI)"
   ]
  },
  {
   "cell_type": "markdown",
   "metadata": {},
   "source": [
    "# Prepocessing data. Remove random spaces and store in a new file."
   ]
  },
  {
   "cell_type": "code",
   "execution_count": 9,
   "metadata": {},
   "outputs": [
    {
     "name": "stdout",
     "output_type": "stream",
     "text": [
      "Preprocessing data. Random spaces removed.\n",
      "Preprocessed data wrote to: data/analysis/DOI_cited_science_1179052_retracted_prep.tsv\n"
     ]
    }
   ],
   "source": [
    "print(\"Preprocessing data. Random spaces removed.\")\n",
    "# read the file again (for good measure)\n",
    "df_citing = read_citing_tsv(citing_tsv)\n",
    "\n",
    "# preprocess data\n",
    "df_prep = df_citing.copy()\n",
    "df_prep['article_citing'] = df_citing['article_citing'].apply(bs_preprocess.bs_preprocess)    \n",
    "\n",
    "df_prep.to_csv(citing_prep_tsv, index=False, sep='\\t', encoding='utf-8')\n",
    "print(\"Preprocessed data wrote to:\", citing_prep_tsv)"
   ]
  },
  {
   "cell_type": "code",
   "execution_count": null,
   "metadata": {
    "collapsed": true
   },
   "outputs": [],
   "source": []
  }
 ],
 "metadata": {
  "kernelspec": {
   "display_name": "Python [default]",
   "language": "python",
   "name": "python3"
  },
  "language_info": {
   "codemirror_mode": {
    "name": "ipython",
    "version": 3
   },
   "file_extension": ".py",
   "mimetype": "text/x-python",
   "name": "python",
   "nbconvert_exporter": "python",
   "pygments_lexer": "ipython3",
   "version": "3.6.2"
  }
 },
 "nbformat": 4,
 "nbformat_minor": 2
}
